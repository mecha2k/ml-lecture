{
 "cells": [
  {
   "cell_type": "code",
   "execution_count": 1,
   "id": "1321cdd2-8f00-4191-9ec7-51c7fe3065a0",
   "metadata": {},
   "outputs": [],
   "source": [
    "import numpy as np\n",
    "import pandas as pd\n",
    "import matplotlib.pyplot as plt\n",
    "import seaborn as sns\n",
    "\n",
    "from pathlib import Path\n",
    "from openpyxl import load_workbook\n",
    "from openpyxl.styles import Font\n",
    "from datetime import datetime"
   ]
  },
  {
   "cell_type": "code",
   "execution_count": 2,
   "id": "1d9cf439-5b75-40ec-8367-911fce10dd9b",
   "metadata": {},
   "outputs": [],
   "source": [
    "datapath = Path(\"./data\")"
   ]
  },
  {
   "cell_type": "code",
   "execution_count": 3,
   "id": "67efbe27-6166-4a41-94da-e0abbaa20a30",
   "metadata": {},
   "outputs": [],
   "source": [
    "df = pd.read_excel(datapath / \"hmc_sap_wbs.xlsx\")"
   ]
  },
  {
   "cell_type": "code",
   "execution_count": 4,
   "id": "58c48b45-a4dc-4ddd-8eb4-a0d24b42068a",
   "metadata": {},
   "outputs": [
    {
     "data": {
      "text/html": [
       "<div>\n",
       "<style scoped>\n",
       "    .dataframe tbody tr th:only-of-type {\n",
       "        vertical-align: middle;\n",
       "    }\n",
       "\n",
       "    .dataframe tbody tr th {\n",
       "        vertical-align: top;\n",
       "    }\n",
       "\n",
       "    .dataframe thead th {\n",
       "        text-align: right;\n",
       "    }\n",
       "</style>\n",
       "<table border=\"1\" class=\"dataframe\">\n",
       "  <thead>\n",
       "    <tr style=\"text-align: right;\">\n",
       "      <th></th>\n",
       "      <th>회사구분</th>\n",
       "      <th>투자구분</th>\n",
       "      <th>프로젝트 정의</th>\n",
       "      <th>Project 명</th>\n",
       "      <th>WBS 요소</th>\n",
       "      <th>WBS 명</th>\n",
       "      <th>시스템 상태</th>\n",
       "      <th>사용자 상태</th>\n",
       "      <th>집행구분</th>\n",
       "      <th>통화</th>\n",
       "      <th>...</th>\n",
       "      <th>추진형태</th>\n",
       "      <th>투자계정</th>\n",
       "      <th>계획계정</th>\n",
       "      <th>예산담당자</th>\n",
       "      <th>연구과제</th>\n",
       "      <th>시작예정일</th>\n",
       "      <th>종료예정일</th>\n",
       "      <th>회계단위</th>\n",
       "      <th>설치장소</th>\n",
       "      <th>자본화일자</th>\n",
       "    </tr>\n",
       "  </thead>\n",
       "  <tbody>\n",
       "    <tr>\n",
       "      <th>0</th>\n",
       "      <td>H</td>\n",
       "      <td>P</td>\n",
       "      <td>P-110150</td>\n",
       "      <td>상용 G엔진 국내 '15년 법규대응 엔진개발</td>\n",
       "      <td>P-110150.0003</td>\n",
       "      <td>시험부품구입비</td>\n",
       "      <td>REL</td>\n",
       "      <td>CLSE</td>\n",
       "      <td>마감</td>\n",
       "      <td>KRW</td>\n",
       "      <td>...</td>\n",
       "      <td>01:자체개발</td>\n",
       "      <td>T4:기술개발(시험)</td>\n",
       "      <td>98601011.0</td>\n",
       "      <td>서명원/책임연구원</td>\n",
       "      <td>P-110150</td>\n",
       "      <td>2011-12-07</td>\n",
       "      <td>2015-12-31</td>\n",
       "      <td>H400</td>\n",
       "      <td>YPAB-5:상용전동화PT기능시험팀</td>\n",
       "      <td>2025-12-31</td>\n",
       "    </tr>\n",
       "    <tr>\n",
       "      <th>1</th>\n",
       "      <td>H</td>\n",
       "      <td>P</td>\n",
       "      <td>P-110150</td>\n",
       "      <td>상용 G엔진 국내 '15년 법규대응 엔진개발</td>\n",
       "      <td>P-110150.0004</td>\n",
       "      <td>공용부품 불출비</td>\n",
       "      <td>REL</td>\n",
       "      <td>CLSE</td>\n",
       "      <td>마감</td>\n",
       "      <td>KRW</td>\n",
       "      <td>...</td>\n",
       "      <td>01:자체개발</td>\n",
       "      <td>T4:기술개발(시험)</td>\n",
       "      <td>98601011.0</td>\n",
       "      <td>서명원/책임연구원</td>\n",
       "      <td>P-110150</td>\n",
       "      <td>2011-12-07</td>\n",
       "      <td>2015-12-31</td>\n",
       "      <td>H400</td>\n",
       "      <td>YPAB-5:상용전동화PT기능시험팀</td>\n",
       "      <td>2025-12-31</td>\n",
       "    </tr>\n",
       "    <tr>\n",
       "      <th>2</th>\n",
       "      <td>H</td>\n",
       "      <td>P</td>\n",
       "      <td>P-110150</td>\n",
       "      <td>상용 G엔진 국내 '15년 법규대응 엔진개발</td>\n",
       "      <td>P-110150.0005</td>\n",
       "      <td>엔진불출비</td>\n",
       "      <td>REL</td>\n",
       "      <td>CLSE</td>\n",
       "      <td>마감</td>\n",
       "      <td>KRW</td>\n",
       "      <td>...</td>\n",
       "      <td>01:자체개발</td>\n",
       "      <td>T4:기술개발(시험)</td>\n",
       "      <td>98601011.0</td>\n",
       "      <td>서명원/책임연구원</td>\n",
       "      <td>P-110150</td>\n",
       "      <td>2011-12-07</td>\n",
       "      <td>2015-12-31</td>\n",
       "      <td>H400</td>\n",
       "      <td>YPAB-5:상용전동화PT기능시험팀</td>\n",
       "      <td>2025-12-31</td>\n",
       "    </tr>\n",
       "    <tr>\n",
       "      <th>3</th>\n",
       "      <td>H</td>\n",
       "      <td>P</td>\n",
       "      <td>P-110150</td>\n",
       "      <td>상용 G엔진 국내 '15년 법규대응 엔진개발</td>\n",
       "      <td>P-110150.0006</td>\n",
       "      <td>연료비</td>\n",
       "      <td>REL</td>\n",
       "      <td>CLSE</td>\n",
       "      <td>마감</td>\n",
       "      <td>KRW</td>\n",
       "      <td>...</td>\n",
       "      <td>01:자체개발</td>\n",
       "      <td>T4:기술개발(시험)</td>\n",
       "      <td>98601011.0</td>\n",
       "      <td>서명원/책임연구원</td>\n",
       "      <td>P-110150</td>\n",
       "      <td>2011-12-07</td>\n",
       "      <td>2015-12-31</td>\n",
       "      <td>H400</td>\n",
       "      <td>YPAB-5:상용전동화PT기능시험팀</td>\n",
       "      <td>2025-12-31</td>\n",
       "    </tr>\n",
       "    <tr>\n",
       "      <th>4</th>\n",
       "      <td>H</td>\n",
       "      <td>P</td>\n",
       "      <td>P-110150</td>\n",
       "      <td>상용 G엔진 국내 '15년 법규대응 엔진개발</td>\n",
       "      <td>P-110150.0007</td>\n",
       "      <td>해외출장비</td>\n",
       "      <td>REL</td>\n",
       "      <td>CLSE</td>\n",
       "      <td>마감</td>\n",
       "      <td>KRW</td>\n",
       "      <td>...</td>\n",
       "      <td>01:자체개발</td>\n",
       "      <td>T4:기술개발(시험)</td>\n",
       "      <td>98601011.0</td>\n",
       "      <td>서명원/책임연구원</td>\n",
       "      <td>P-110150</td>\n",
       "      <td>2011-12-07</td>\n",
       "      <td>2015-12-31</td>\n",
       "      <td>H400</td>\n",
       "      <td>YPAB-5:상용전동화PT기능시험팀</td>\n",
       "      <td>2025-12-31</td>\n",
       "    </tr>\n",
       "  </tbody>\n",
       "</table>\n",
       "<p>5 rows × 47 columns</p>\n",
       "</div>"
      ],
      "text/plain": [
       "  회사구분 투자구분   프로젝트 정의                 Project 명         WBS 요소     WBS 명  \\\n",
       "0    H    P  P-110150  상용 G엔진 국내 '15년 법규대응 엔진개발  P-110150.0003   시험부품구입비   \n",
       "1    H    P  P-110150  상용 G엔진 국내 '15년 법규대응 엔진개발  P-110150.0004  공용부품 불출비   \n",
       "2    H    P  P-110150  상용 G엔진 국내 '15년 법규대응 엔진개발  P-110150.0005     엔진불출비   \n",
       "3    H    P  P-110150  상용 G엔진 국내 '15년 법규대응 엔진개발  P-110150.0006       연료비   \n",
       "4    H    P  P-110150  상용 G엔진 국내 '15년 법규대응 엔진개발  P-110150.0007     해외출장비   \n",
       "\n",
       "  시스템 상태 사용자 상태 집행구분   통화  ...     추진형태         투자계정        계획계정      예산담당자  \\\n",
       "0    REL   CLSE   마감  KRW  ...  01:자체개발  T4:기술개발(시험)  98601011.0  서명원/책임연구원   \n",
       "1    REL   CLSE   마감  KRW  ...  01:자체개발  T4:기술개발(시험)  98601011.0  서명원/책임연구원   \n",
       "2    REL   CLSE   마감  KRW  ...  01:자체개발  T4:기술개발(시험)  98601011.0  서명원/책임연구원   \n",
       "3    REL   CLSE   마감  KRW  ...  01:자체개발  T4:기술개발(시험)  98601011.0  서명원/책임연구원   \n",
       "4    REL   CLSE   마감  KRW  ...  01:자체개발  T4:기술개발(시험)  98601011.0  서명원/책임연구원   \n",
       "\n",
       "       연구과제      시작예정일      종료예정일  회계단위                 설치장소      자본화일자  \n",
       "0  P-110150 2011-12-07 2015-12-31  H400  YPAB-5:상용전동화PT기능시험팀 2025-12-31  \n",
       "1  P-110150 2011-12-07 2015-12-31  H400  YPAB-5:상용전동화PT기능시험팀 2025-12-31  \n",
       "2  P-110150 2011-12-07 2015-12-31  H400  YPAB-5:상용전동화PT기능시험팀 2025-12-31  \n",
       "3  P-110150 2011-12-07 2015-12-31  H400  YPAB-5:상용전동화PT기능시험팀 2025-12-31  \n",
       "4  P-110150 2011-12-07 2015-12-31  H400  YPAB-5:상용전동화PT기능시험팀 2025-12-31  \n",
       "\n",
       "[5 rows x 47 columns]"
      ]
     },
     "execution_count": 4,
     "metadata": {},
     "output_type": "execute_result"
    }
   ],
   "source": [
    "df.head()"
   ]
  },
  {
   "cell_type": "code",
   "execution_count": 5,
   "id": "7c32a2f4-0f2a-482e-aa27-d0bf5b909f31",
   "metadata": {},
   "outputs": [
    {
     "data": {
      "text/plain": [
       "Index(['회사구분', '투자구분', '프로젝트정의', 'Project명', 'WBS요소', 'WBS명', '시스템상태', '사용자상태',\n",
       "       '집행구분', '통화', '부대비포함', 'WBS통화키', '청구누적', '최초품의', '최종품의', '전체예산', '전체실적',\n",
       "       '전체약정', '2025년최초계획', '당년운영금액', '당년가용예산', '2025년계획', '2025년예산',\n",
       "       '2025년실적', '2025년약정', '2026년이후계획', '2026년이후예산', '2026년이후약정', '책임코스트센터',\n",
       "       '총괄팀', '통제팀', '투자지역', '레벨텍스트1', '레벨텍스트2', '레벨텍스트3', '레벨텍스트4', '집행유형',\n",
       "       '추진형태', '투자계정', '계획계정', '예산담당자', '연구과제', '시작예정일', '종료예정일', '회계단위',\n",
       "       '설치장소', '자본화일자'],\n",
       "      dtype='object')"
      ]
     },
     "execution_count": 5,
     "metadata": {},
     "output_type": "execute_result"
    }
   ],
   "source": [
    "df.columns = df.columns.map(lambda x: x.replace(\" \", \"\"))\n",
    "df.columns"
   ]
  },
  {
   "cell_type": "code",
   "execution_count": 8,
   "id": "e6580763-b85c-4677-aa58-b21d948bfe9d",
   "metadata": {},
   "outputs": [
    {
     "data": {
      "text/plain": [
       "(1314, 47)"
      ]
     },
     "execution_count": 8,
     "metadata": {},
     "output_type": "execute_result"
    }
   ],
   "source": [
    "df.dropna(subset=\"프로젝트정의\", inplace=True)\n",
    "df.shape"
   ]
  },
  {
   "cell_type": "code",
   "execution_count": 16,
   "id": "14caa411-43e2-4220-9343-19da3b86dfc5",
   "metadata": {},
   "outputs": [
    {
     "data": {
      "text/plain": [
       "(30, 47)"
      ]
     },
     "execution_count": 16,
     "metadata": {},
     "output_type": "execute_result"
    }
   ],
   "source": [
    "df = df[(df[\"집행구분\"] != \"마감\") & (df[\"통화\"] != \"KRW\")]\n",
    "df.shape"
   ]
  },
  {
   "cell_type": "code",
   "execution_count": 17,
   "id": "95fc6ae3-b4ce-4394-94d0-e66f3536c82b",
   "metadata": {},
   "outputs": [
    {
     "data": {
      "text/plain": [
       "np.int64(0)"
      ]
     },
     "execution_count": 17,
     "metadata": {},
     "output_type": "execute_result"
    }
   ],
   "source": [
    "df[\"프로젝트정의\"].isna().sum()"
   ]
  },
  {
   "cell_type": "code",
   "execution_count": 18,
   "id": "1a7695b9-82b2-4210-af2c-e8591635abe6",
   "metadata": {},
   "outputs": [
    {
     "data": {
      "text/html": [
       "<div>\n",
       "<style scoped>\n",
       "    .dataframe tbody tr th:only-of-type {\n",
       "        vertical-align: middle;\n",
       "    }\n",
       "\n",
       "    .dataframe tbody tr th {\n",
       "        vertical-align: top;\n",
       "    }\n",
       "\n",
       "    .dataframe thead th {\n",
       "        text-align: right;\n",
       "    }\n",
       "</style>\n",
       "<table border=\"1\" class=\"dataframe\">\n",
       "  <thead>\n",
       "    <tr style=\"text-align: right;\">\n",
       "      <th></th>\n",
       "      <th>프로젝트정의</th>\n",
       "      <th>실질담당자</th>\n",
       "    </tr>\n",
       "  </thead>\n",
       "  <tbody>\n",
       "    <tr>\n",
       "      <th>0</th>\n",
       "      <td>P-180116</td>\n",
       "      <td>이중희 책임</td>\n",
       "    </tr>\n",
       "    <tr>\n",
       "      <th>1</th>\n",
       "      <td>P-190136</td>\n",
       "      <td>이성학 책임</td>\n",
       "    </tr>\n",
       "    <tr>\n",
       "      <th>2</th>\n",
       "      <td>P-220012</td>\n",
       "      <td>이중희 책임</td>\n",
       "    </tr>\n",
       "    <tr>\n",
       "      <th>3</th>\n",
       "      <td>P-220214</td>\n",
       "      <td>이중희 책임</td>\n",
       "    </tr>\n",
       "    <tr>\n",
       "      <th>4</th>\n",
       "      <td>P-220216</td>\n",
       "      <td>이성학 책임</td>\n",
       "    </tr>\n",
       "  </tbody>\n",
       "</table>\n",
       "</div>"
      ],
      "text/plain": [
       "     프로젝트정의   실질담당자\n",
       "0  P-180116  이중희 책임\n",
       "1  P-190136  이성학 책임\n",
       "2  P-220012  이중희 책임\n",
       "3  P-220214  이중희 책임\n",
       "4  P-220216  이성학 책임"
      ]
     },
     "execution_count": 18,
     "metadata": {},
     "output_type": "execute_result"
    }
   ],
   "source": [
    "df_real = pd.read_csv(datapath / \"manager.txt\", delimiter=\"\\t\")\n",
    "df_real.head()"
   ]
  },
  {
   "cell_type": "code",
   "execution_count": 19,
   "id": "46e9819f-ee64-48cd-b5b0-2f361608d6ab",
   "metadata": {},
   "outputs": [],
   "source": [
    "def analyze_budget(df, mode=None):\n",
    "    cond = (df[\"투자구분\"] == mode) & (df[\"당년운영금액\"] > 0)\n",
    "    curr_op_budget = df.loc[cond, [\"프로젝트정의\", \"Project명\", \"WBS요소\", \"WBS명\", \"집행구분\", \"통화\", \"당년운영금액\", '당년가용예산', \n",
    "                                   '2025년실적', '2025년약정', '2026년이후계획']]\n",
    "    curr_op_budget = pd.merge(curr_op_budget, df_real, on=\"프로젝트정의\", how=\"left\")\n",
    "    cond = (curr_op_budget[\"집행구분\"] == \"미승인\") & (curr_op_budget[\"당년운영금액\"] > 0)\n",
    "    curr_op_budget[\"미품의\"] = curr_op_budget.loc[cond, [\"당년운영금액\"]]\n",
    "\n",
    "    cob = curr_op_budget.sum(numeric_only=True)\n",
    "    total_check = cob['당년가용예산'] + cob['2025년실적'] + cob['2025년약정'] + cob['미품의']\n",
    "    total_check_info = f\"집행 완료: {round((cob['2025년실적'] + cob['2025년약정']) / 1e8, 1)}억, \"\n",
    "    total_check_info += f\"품의완/미집행: {round(cob['당년가용예산'] / 1e8, 1)}억, \"\n",
    "    total_check_info += f\"미품의: {round(cob['미품의'] / 1e8, 1)}억, \"\n",
    "    total_check_info += f\"총계: {round(total_check / 1e8, 1)}억원\"\n",
    "    \n",
    "    cond = (curr_op_budget[\"집행구분\"] == \"미승인\") & (curr_op_budget[\"당년운영금액\"] > 0)\n",
    "    manager_df = curr_op_budget.loc[cond, [\"프로젝트정의\", \"Project명\", \"실질담당자\"]]\n",
    "    manager_df = manager_df.drop_duplicates(subset=\"프로젝트정의\")\n",
    "    print(manager_df)\n",
    "    \n",
    "    return curr_op_budget, total_check_info, manager_df"
   ]
  },
  {
   "cell_type": "code",
   "execution_count": 31,
   "id": "d72d113f-63e6-4546-9d02-e2ab21a233ef",
   "metadata": {},
   "outputs": [],
   "source": [
    "def save_to_excel(filename, sheet_name, isfirst=True, curr_op_budget=None, total_check_info=None, manager_df=None):\n",
    "    if isfirst:\n",
    "        with pd.ExcelWriter(filename, engine=\"openpyxl\") as writer:\n",
    "            curr_op_budget.to_excel(writer, sheet_name=sheet_name, index=False, startrow=0)\n",
    "    else:\n",
    "        with pd.ExcelWriter(filename, engine=\"openpyxl\", mode=\"a\", if_sheet_exists=\"replace\") as writer:\n",
    "            curr_op_budget.to_excel(writer, sheet_name=sheet_name, index=False, startrow=0)\n",
    "\n",
    "    book = load_workbook(filename=filename)\n",
    "    sheet = book[sheet_name]\n",
    "    \n",
    "    last_row = sheet.max_row\n",
    "    while last_row > 0 and all(cell.value is None for cell in sheet[last_row]):\n",
    "        last_row -= 1\n",
    "    \n",
    "    col_widths = [10, 50, 12, 42, 8, 8, 12, 12, 12, 12, 12, 12, 12]\n",
    "    for i, col in enumerate(sheet.columns):\n",
    "        sheet.column_dimensions[col[0].column_letter].width = col_widths[i]\n",
    "    \n",
    "    for col in [\"D\", \"E\", \"F\", \"G\", \"H\", \"I\", \"J\", \"K\", \"M\"]:\n",
    "        for row in range(2, sheet.max_row + 1):\n",
    "            cell = sheet[f\"{col}{row}\"]\n",
    "            cell.number_format = \"#,##0\"\n",
    "    \n",
    "    sans_font = Font(name=\"맑은 고딕\", size=10, bold=False)\n",
    "    for row in sheet.iter_rows():\n",
    "        for cell in row:\n",
    "            cell.font = sans_font if cell.value is not None else None\n",
    "\n",
    "    book.save(filename)"
   ]
  },
  {
   "cell_type": "code",
   "execution_count": 32,
   "id": "db56729b-32ec-48a0-b001-5abcfab4dda9",
   "metadata": {},
   "outputs": [
    {
     "name": "stdout",
     "output_type": "stream",
     "text": [
      "     프로젝트정의                            Project명   실질담당자\n",
      "1  R-257419  [장비-신규] 상용디젤엔진 유로7 보쉬 ECU 통신 모듈 구매  이성학 책임\n",
      "Empty DataFrame\n",
      "Columns: [프로젝트정의, Project명, 실질담당자]\n",
      "Index: []\n",
      "     프로젝트정의                  Project명   실질담당자\n",
      "0  P-220214  상용차 F-엔진 국내 유로7 법규 대응 개발  이중희 책임\n",
      "1  P-220216  상용차 G-엔진 국내 유로7 법규 대응 개발  이성학 책임\n",
      "3  P-220233  상용차 L-엔진 국내 유로7 법규 대응 개발  김주호 책임\n",
      "6  P-240106        QZc 국6 연비개선 4단계 대응  김주호 책임\n"
     ]
    }
   ],
   "source": [
    "time = datetime.now().strftime(\"%y%m%d\")\n",
    "filename = datapath / f\"{time} 예산현황(외화기준).xlsx\"\n",
    "\n",
    "sheet_name = \"시설투자(B)\"\n",
    "curr_op_budget, total_check_info, manager_df = analyze_budget(df, mode=\"B\")\n",
    "save_to_excel(filename, sheet_name, True, curr_op_budget, total_check_info, manager_df)\n",
    "sheet_name = \"기술개발(T)\"\n",
    "curr_op_budget, total_check_info, manager_df = analyze_budget(df, mode=\"T\")\n",
    "save_to_excel(filename, sheet_name, False, curr_op_budget, total_check_info, manager_df)\n",
    "sheet_name = \"프로젝트(P)\"\n",
    "curr_op_budget, total_check_info, manager_df = analyze_budget(df, mode=\"P\")\n",
    "save_to_excel(filename, sheet_name, False, curr_op_budget, total_check_info, manager_df)"
   ]
  },
  {
   "cell_type": "code",
   "execution_count": null,
   "id": "530ce35d-f9b1-4ed9-8e70-d454304b29f5",
   "metadata": {},
   "outputs": [],
   "source": []
  },
  {
   "cell_type": "code",
   "execution_count": null,
   "id": "164b0c85-ff2b-445f-be62-cd6a1c318a78",
   "metadata": {},
   "outputs": [],
   "source": []
  },
  {
   "cell_type": "code",
   "execution_count": null,
   "id": "58a357c0-669d-44c6-b0a1-882996eb3f06",
   "metadata": {},
   "outputs": [],
   "source": []
  },
  {
   "cell_type": "code",
   "execution_count": null,
   "id": "d4333905-4fd3-44bf-95d1-c7ce43d743ac",
   "metadata": {},
   "outputs": [],
   "source": []
  },
  {
   "cell_type": "code",
   "execution_count": null,
   "id": "dd1685d0-dd79-4eee-8b69-a02e3bee0c1c",
   "metadata": {},
   "outputs": [],
   "source": []
  }
 ],
 "metadata": {
  "kernelspec": {
   "display_name": "Python 3 (ipykernel)",
   "language": "python",
   "name": "python3"
  },
  "language_info": {
   "codemirror_mode": {
    "name": "ipython",
    "version": 3
   },
   "file_extension": ".py",
   "mimetype": "text/x-python",
   "name": "python",
   "nbconvert_exporter": "python",
   "pygments_lexer": "ipython3",
   "version": "3.10.16"
  }
 },
 "nbformat": 4,
 "nbformat_minor": 5
}
