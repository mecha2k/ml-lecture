{
 "cells": [
  {
   "cell_type": "code",
   "execution_count": null,
   "id": "ca3f6f28-4a50-4b43-83ce-8b96a5b592d8",
   "metadata": {},
   "outputs": [],
   "source": [
    "# 머신러닝\n",
    "- EDA\n",
    "- 가공\n",
    "- 여러 모델 테스트\n",
    "    - 하이퍼 파라미터 세팅\n",
    "    - 생성 => 훈련 => 검증, 예측"
   ]
  },
  {
   "cell_type": "code",
   "execution_count": null,
   "id": "9ba2feba-b6d3-4df6-a198-076346f6845a",
   "metadata": {},
   "outputs": [],
   "source": [
    "train(훈련, 정답:target)\n",
    "\n",
    "test(예측, 시험문제:target 데이터)"
   ]
  },
  {
   "cell_type": "code",
   "execution_count": null,
   "id": "da06a4e4-de25-4f90-b803-c3c772871e2e",
   "metadata": {},
   "outputs": [],
   "source": [
    "https://cafe.naver.com/jkitstudy/699"
   ]
  },
  {
   "cell_type": "code",
   "execution_count": 1,
   "id": "41e805ff-a578-4f5c-86e2-d90c5ebea1ad",
   "metadata": {},
   "outputs": [],
   "source": [
    "import pandas as pd\n",
    "import numpy as np\n",
    "import matplotlib.pyplot as plt\n",
    "import seaborn as sns"
   ]
  },
  {
   "cell_type": "code",
   "execution_count": 6,
   "id": "2ca008f9-902c-4984-9ea8-507de9a883bf",
   "metadata": {},
   "outputs": [
    {
     "name": "stdout",
     "output_type": "stream",
     "text": [
      "python\\tpython\n"
     ]
    }
   ],
   "source": [
    "# 메타문자\n",
    "# \\ + 정해진 알파벳 => 특별한 효과\n",
    "# r => raw\n",
    "print(r'python\\tpython')"
   ]
  },
  {
   "cell_type": "code",
   "execution_count": 7,
   "id": "fb8d4086-cacf-4486-ba29-e4e836b68a4b",
   "metadata": {},
   "outputs": [],
   "source": [
    "train_df = pd.read_csv(r'C:\\Users\\USER\\OneDrive\\Desktop\\2025 수업\\DA양성과정 ML\\train.csv')\n",
    "test_df = pd.read_csv(r'C:\\Users\\USER\\OneDrive\\Desktop\\2025 수업\\DA양성과정 ML\\test.csv')"
   ]
  },
  {
   "cell_type": "markdown",
   "id": "99486f03-4db4-4b4f-8283-dd0c3301f571",
   "metadata": {},
   "source": [
    "# EDA\n",
    "- 데이터를 다양한 방식으로 살펴보자!"
   ]
  },
  {
   "cell_type": "code",
   "execution_count": 9,
   "id": "53c479d9-9174-4706-86d2-ca04a9f41ae1",
   "metadata": {},
   "outputs": [],
   "source": [
    "# target => 카테고리 => 분류모델\n",
    "# feature => 카테고리 : pclass, sex, embarked => 인코딩\n",
    "#         => 연속된숫자 : age, fare, family => 스케일링\n",
    "#         => 데이터가 아닌것 : name, ticket, cabin => 데이터 추출\n",
    "\n",
    "# 헷갈리는 feature => a, b => a b 사이에 새로운 값이 들어갈 수 있나\n",
    "#                          => a b 차이가 의미가 있나"
   ]
  },
  {
   "cell_type": "code",
   "execution_count": 14,
   "id": "7e2cf480-900e-41f8-8090-76f729fa5315",
   "metadata": {},
   "outputs": [
    {
     "data": {
      "text/plain": [
       "PassengerId     0.000000\n",
       "Survived        0.000000\n",
       "Pclass          0.000000\n",
       "Name            0.000000\n",
       "Sex             0.000000\n",
       "Age            19.865320\n",
       "SibSp           0.000000\n",
       "Parch           0.000000\n",
       "Ticket          0.000000\n",
       "Fare            0.000000\n",
       "Cabin          77.104377\n",
       "Embarked        0.224467\n",
       "dtype: float64"
      ]
     },
     "execution_count": 14,
     "metadata": {},
     "output_type": "execute_result"
    }
   ],
   "source": [
    "# 데이터가 양품인가?\n",
    "# pd에서는 결측값을 NaN\n",
    "# 집계!\n",
    "train_df.isna().sum() / len(train_df) * 100"
   ]
  },
  {
   "cell_type": "code",
   "execution_count": 15,
   "id": "41567fc6-bfb3-4ad0-be07-5829cee8f700",
   "metadata": {},
   "outputs": [
    {
     "data": {
      "text/plain": [
       "PassengerId     0.000000\n",
       "Pclass          0.000000\n",
       "Name            0.000000\n",
       "Sex             0.000000\n",
       "Age            20.574163\n",
       "SibSp           0.000000\n",
       "Parch           0.000000\n",
       "Ticket          0.000000\n",
       "Fare            0.239234\n",
       "Cabin          78.229665\n",
       "Embarked        0.000000\n",
       "dtype: float64"
      ]
     },
     "execution_count": 15,
     "metadata": {},
     "output_type": "execute_result"
    }
   ],
   "source": [
    "test_df.isna().sum() / len(test_df) * 100"
   ]
  },
  {
   "cell_type": "markdown",
   "id": "4b69ec14-76db-4378-9d24-54b806c154e8",
   "metadata": {},
   "source": [
    "# 결측 데이터 처리\n",
    "## Embarked"
   ]
  },
  {
   "cell_type": "code",
   "execution_count": 18,
   "id": "4e990d3a-970d-4c6d-bbc4-b230f7f66eea",
   "metadata": {},
   "outputs": [
    {
     "data": {
      "image/png": "[encoded data removed]",
      "text/plain": [
       "<Figure size 500x300 with 1 Axes>"
      ]
     },
     "metadata": {},
     "output_type": "display_data"
    }
   ],
   "source": [
    "plt.figure(figsize=(5, 3))\n",
    "sns.countplot(data=train_df, x='Embarked')\n",
    "plt.show()"
   ]
  },
  {
   "cell_type": "code",
   "execution_count": 19,
   "id": "70ebcc54-7464-404c-ba48-d9ef30396bff",
   "metadata": {},
   "outputs": [
    {
     "data": {
      "text/html": [
       "<div>\n",
       "<style scoped>\n",
       "    .dataframe tbody tr th:only-of-type {\n",
       "        vertical-align: middle;\n",
       "    }\n",
       "\n",
       "    .dataframe tbody tr th {\n",
       "        vertical-align: top;\n",
       "    }\n",
       "\n",
       "    .dataframe thead th {\n",
       "        text-align: right;\n",
       "    }\n",
       "</style>\n",
       "<table border=\"1\" class=\"dataframe\">\n",
       "  <thead>\n",
       "    <tr style=\"text-align: right;\">\n",
       "      <th></th>\n",
       "      <th>PassengerId</th>\n",
       "      <th>Survived</th>\n",
       "      <th>Pclass</th>\n",
       "      <th>Name</th>\n",
       "      <th>Sex</th>\n",
       "      <th>Age</th>\n",
       "      <th>SibSp</th>\n",
       "      <th>Parch</th>\n",
       "      <th>Ticket</th>\n",
       "      <th>Fare</th>\n",
       "      <th>Cabin</th>\n",
       "      <th>Embarked</th>\n",
       "    </tr>\n",
       "  </thead>\n",
       "  <tbody>\n",
       "    <tr>\n",
       "      <th>61</th>\n",
       "      <td>62</td>\n",
       "      <td>1</td>\n",
       "      <td>1</td>\n",
       "      <td>Icard, Miss. Amelie</td>\n",
       "      <td>female</td>\n",
       "      <td>38.0</td>\n",
       "      <td>0</td>\n",
       "      <td>0</td>\n",
       "      <td>113572</td>\n",
       "      <td>80.0</td>\n",
       "      <td>B28</td>\n",
       "      <td>NaN</td>\n",
       "    </tr>\n",
       "    <tr>\n",
       "      <th>829</th>\n",
       "      <td>830</td>\n",
       "      <td>1</td>\n",
       "      <td>1</td>\n",
       "      <td>Stone, Mrs. George Nelson (Martha Evelyn)</td>\n",
       "      <td>female</td>\n",
       "      <td>62.0</td>\n",
       "      <td>0</td>\n",
       "      <td>0</td>\n",
       "      <td>113572</td>\n",
       "      <td>80.0</td>\n",
       "      <td>B28</td>\n",
       "      <td>NaN</td>\n",
       "    </tr>\n",
       "  </tbody>\n",
       "</table>\n",
       "</div>"
      ],
      "text/plain": [
       "     PassengerId  Survived  Pclass                                       Name  \\\n",
       "61            62         1       1                        Icard, Miss. Amelie   \n",
       "829          830         1       1  Stone, Mrs. George Nelson (Martha Evelyn)   \n",
       "\n",
       "        Sex   Age  SibSp  Parch  Ticket  Fare Cabin Embarked  \n",
       "61   female  38.0      0      0  113572  80.0   B28      NaN  \n",
       "829  female  62.0      0      0  113572  80.0   B28      NaN  "
      ]
     },
     "execution_count": 19,
     "metadata": {},
     "output_type": "execute_result"
    }
   ],
   "source": [
    "train_df[ train_df['Embarked'].isna() ]"
   ]
  },
  {
   "cell_type": "code",
   "execution_count": 23,
   "id": "aae1802e-b30d-48fe-a391-ddd47ef11290",
   "metadata": {},
   "outputs": [
    {
     "data": {
      "image/png": "[encoded data removed]",
      "text/plain": [
       "<Figure size 400x200 with 1 Axes>"
      ]
     },
     "metadata": {},
     "output_type": "display_data"
    }
   ],
   "source": [
    "plt.figure(figsize=(4, 2))\n",
    "sns.boxplot(data=train_df, x='Embarked', y='Fare', hue='Sex')\n",
    "plt.ylim( [0, 100]  )\n",
    "plt.show()"
   ]
  },
  {
   "cell_type": "code",
   "execution_count": 29,
   "id": "4fac362e-0ee8-435a-82c2-0195b44c2a40",
   "metadata": {},
   "outputs": [],
   "source": [
    "# .loc[인덱스, 컬럼] => .loc[인덱스를 찾아오는 조건, 컬럼]\n",
    "train_df.loc[  train_df['Embarked'].isna(), 'Embarked'] = 'C'"
   ]
  },
  {
   "cell_type": "markdown",
   "id": "e4c0c8d0-f0e2-4241-b58e-b50347254335",
   "metadata": {},
   "source": [
    "## Age"
   ]
  },
  {
   "cell_type": "code",
   "execution_count": 30,
   "id": "54d60db3-141f-4e7d-ba33-bcc3b336ae3c",
   "metadata": {},
   "outputs": [
    {
     "data": {
      "image/png": "[encoded data removed]",
      "text/plain": [
       "<Figure size 400x200 with 1 Axes>"
      ]
     },
     "metadata": {},
     "output_type": "display_data"
    }
   ],
   "source": [
    "plt.figure(figsize=(4, 2))\n",
    "sns.histplot(data=train_df, x='Age', bins=30)\n",
    "plt.show()"
   ]
  },
  {
   "cell_type": "code",
   "execution_count": 34,
   "id": "5dd3484f-e1ce-44fe-ae3a-c058df04e72a",
   "metadata": {},
   "outputs": [
    {
     "data": {
      "image/png": "[encoded data removed]",
      "text/plain": [
       "<Figure size 400x200 with 1 Axes>"
      ]
     },
     "metadata": {},
     "output_type": "display_data"
    }
   ],
   "source": [
    "plt.figure(figsize=(4, 2))\n",
    "sns.boxplot(data=train_df, x='Pclass', y='Age', hue='Sex')\n",
    "plt.show()"
   ]
  },
  {
   "cell_type": "code",
   "execution_count": 42,
   "id": "37a16c1f-0b4c-4459-8610-638cd608850d",
   "metadata": {},
   "outputs": [],
   "source": [
    "temp = train_df.groupby( ['Pclass', 'Sex'] )['Age'].mean()\n",
    "\n",
    "for val in temp.index:\n",
    "    cond1 = train_df['Sex'] == val[1]\n",
    "    cond2 = train_df['Pclass'] == val[0]\n",
    "    cond3 = train_df['Age'].isna()\n",
    "    train_df.loc[ cond1 & cond2 & cond3, 'Age' ] = temp[val]\n",
    "\n",
    "    cond1 = test_df['Sex'] == val[1]\n",
    "    cond2 = test_df['Pclass'] == val[0]\n",
    "    cond3 = test_df['Age'].isna()\n",
    "    test_df.loc[ cond1 & cond2 & cond3, 'Age' ] = temp[val]"
   ]
  },
  {
   "cell_type": "markdown",
   "id": "2c18a095-d690-4ba6-a7bf-929e57df7bec",
   "metadata": {},
   "source": [
    "## Fare"
   ]
  },
  {
   "cell_type": "code",
   "execution_count": 43,
   "id": "2c47bfaf-b77d-4526-bb71-2fa62e906747",
   "metadata": {},
   "outputs": [
    {
     "data": {
      "image/png": "[encoded data removed]",
      "text/plain": [
       "<Figure size 400x200 with 1 Axes>"
      ]
     },
     "metadata": {},
     "output_type": "display_data"
    }
   ],
   "source": [
    "plt.figure(figsize=(4, 2))\n",
    "sns.histplot(data=train_df, x='Fare', bins=30)\n",
    "plt.show()"
   ]
  },
  {
   "cell_type": "code",
   "execution_count": 44,
   "id": "9564f206-d64b-4796-98ef-f0aa4401aecf",
   "metadata": {},
   "outputs": [
    {
     "data": {
      "text/html": [
       "<div>\n",
       "<style scoped>\n",
       "    .dataframe tbody tr th:only-of-type {\n",
       "        vertical-align: middle;\n",
       "    }\n",
       "\n",
       "    .dataframe tbody tr th {\n",
       "        vertical-align: top;\n",
       "    }\n",
       "\n",
       "    .dataframe thead th {\n",
       "        text-align: right;\n",
       "    }\n",
       "</style>\n",
       "<table border=\"1\" class=\"dataframe\">\n",
       "  <thead>\n",
       "    <tr style=\"text-align: right;\">\n",
       "      <th></th>\n",
       "      <th>PassengerId</th>\n",
       "      <th>Pclass</th>\n",
       "      <th>Name</th>\n",
       "      <th>Sex</th>\n",
       "      <th>Age</th>\n",
       "      <th>SibSp</th>\n",
       "      <th>Parch</th>\n",
       "      <th>Ticket</th>\n",
       "      <th>Fare</th>\n",
       "      <th>Cabin</th>\n",
       "      <th>Embarked</th>\n",
       "    </tr>\n",
       "  </thead>\n",
       "  <tbody>\n",
       "    <tr>\n",
       "      <th>152</th>\n",
       "      <td>1044</td>\n",
       "      <td>3</td>\n",
       "      <td>Storey, Mr. Thomas</td>\n",
       "      <td>male</td>\n",
       "      <td>60.5</td>\n",
       "      <td>0</td>\n",
       "      <td>0</td>\n",
       "      <td>3701</td>\n",
       "      <td>NaN</td>\n",
       "      <td>NaN</td>\n",
       "      <td>S</td>\n",
       "    </tr>\n",
       "  </tbody>\n",
       "</table>\n",
       "</div>"
      ],
      "text/plain": [
       "     PassengerId  Pclass                Name   Sex   Age  SibSp  Parch Ticket  \\\n",
       "152         1044       3  Storey, Mr. Thomas  male  60.5      0      0   3701   \n",
       "\n",
       "     Fare Cabin Embarked  \n",
       "152   NaN   NaN        S  "
      ]
     },
     "execution_count": 44,
     "metadata": {},
     "output_type": "execute_result"
    }
   ],
   "source": [
    "test_df[ test_df['Fare'].isna() ]"
   ]
  },
  {
   "cell_type": "code",
   "execution_count": 46,
   "id": "29fc4c9f-2a44-43b4-98e7-a1ef230ce17e",
   "metadata": {},
   "outputs": [
    {
     "data": {
      "image/png": "[encoded data removed]",
      "text/plain": [
       "<Figure size 400x200 with 1 Axes>"
      ]
     },
     "metadata": {},
     "output_type": "display_data"
    }
   ],
   "source": [
    "plt.figure(figsize=(4, 2))\n",
    "sns.boxplot(data=train_df, x='Pclass', y='Fare', hue='Sex')\n",
    "plt.ylim([0, 100])\n",
    "plt.show()"
   ]
  },
  {
   "cell_type": "code",
   "execution_count": 49,
   "id": "0e12a2d5-a941-4002-ada1-de5e01bd9224",
   "metadata": {},
   "outputs": [],
   "source": [
    "train_df.groupby( ['Pclass', 'Sex'] )['Fare'].median()\n",
    "\n",
    "test_df.loc[ test_df['Fare'].isna(), 'Fare' ] = 7.925"
   ]
  },
  {
   "cell_type": "markdown",
   "id": "c311268a-3e52-4b20-974c-ed2c8aa56a4c",
   "metadata": {},
   "source": [
    "# Feature Engineering\n",
    "- 데이터가 아닌 것에서 데이터를 추출\n",
    "    - Name, Ticket, Cabin\n",
    "- 스케일링\n",
    "    - Age, Fare, Family\n",
    "- 인코딩\n",
    "    - Pclass, Sex, Embarked"
   ]
  },
  {
   "cell_type": "markdown",
   "id": "249b6659-b174-469b-9ca3-89163bc96f55",
   "metadata": {},
   "source": [
    "## Name\n",
    "- 하면 할 수 있는데 겹치는 정보..."
   ]
  },
  {
   "cell_type": "code",
   "execution_count": 59,
   "id": "613c0e33-4849-4180-a4fa-1cde8612d1d4",
   "metadata": {},
   "outputs": [
    {
     "data": {
      "text/plain": [
       "'Mr'"
      ]
     },
     "execution_count": 59,
     "metadata": {},
     "output_type": "execute_result"
    }
   ],
   "source": [
    "'Braund, Mr. Owen Harris'.split(', ')[1].split('.')[0]"
   ]
  },
  {
   "cell_type": "code",
   "execution_count": 63,
   "id": "583d28b4-f780-4a02-a161-16cf8fa67aa4",
   "metadata": {},
   "outputs": [],
   "source": [
    "def temp(x):\n",
    "    return x.split(', ')[1].split('.')[0]\n",
    "\n",
    "train_df['Name2'] = train_df['Name'].apply( temp )"
   ]
  },
  {
   "cell_type": "code",
   "execution_count": 65,
   "id": "5cca6776-70a1-4f48-9bed-72b711fc804a",
   "metadata": {},
   "outputs": [
    {
     "data": {
      "text/plain": [
       "array(['Mr', 'Mrs', 'Miss', 'Master', 'Don', 'Rev', 'Dr', 'Mme', 'Ms',\n",
       "       'Major', 'Lady', 'Sir', 'Mlle', 'Col', 'Capt', 'the Countess',\n",
       "       'Jonkheer'], dtype=object)"
      ]
     },
     "execution_count": 65,
     "metadata": {},
     "output_type": "execute_result"
    }
   ],
   "source": [
    "train_df['Name2'].unique()"
   ]
  },
  {
   "cell_type": "code",
   "execution_count": null,
   "id": "3a068b6e-8e86-4a69-8700-1f73dd9d4392",
   "metadata": {},
   "outputs": [],
   "source": [
    "# feature가 많은면 문제가 생김 => 차원의 저주"
   ]
  },
  {
   "cell_type": "markdown",
   "id": "709a8a55-9060-4dcc-baa8-3ded04df4585",
   "metadata": {
    "editable": true,
    "slideshow": {
     "slide_type": ""
    },
    "tags": []
   },
   "source": [
    "## Ticket, Cabin\n",
    "- 할게 없음..."
   ]
  },
  {
   "cell_type": "code",
   "execution_count": 66,
   "id": "836ba11e-46ef-4dbc-9f97-06fe6aed61bf",
   "metadata": {},
   "outputs": [
    {
     "data": {
      "text/plain": [
       "0             A/5 21171\n",
       "1              PC 17599\n",
       "2      STON/O2. 3101282\n",
       "3                113803\n",
       "4                373450\n",
       "             ...       \n",
       "886              211536\n",
       "887              112053\n",
       "888          W./C. 6607\n",
       "889              111369\n",
       "890              370376\n",
       "Name: Ticket, Length: 891, dtype: object"
      ]
     },
     "execution_count": 66,
     "metadata": {},
     "output_type": "execute_result"
    }
   ],
   "source": [
    "train_df['Ticket']"
   ]
  },
  {
   "cell_type": "markdown",
   "id": "ef550602-0c00-4761-8d5e-ab2d177c7338",
   "metadata": {},
   "source": [
    "## 스케일링\n",
    "- 숫자 데이터의 단위를 맞쳐줌\n",
    "- standard 스케일링이 대표적\n",
    "    - 평균으로 빼서 편차로 나누어 줌 => N(0, 1)\n",
    "- min-max 스케일링 => 0, 1 사이로 매핑해 줌"
   ]
  },
  {
   "cell_type": "code",
   "execution_count": 78,
   "id": "9ae717dc-28d2-4a64-a513-7885e5e01508",
   "metadata": {},
   "outputs": [],
   "source": [
    "from sklearn.preprocessing import StandardScaler\n",
    "# skew되어 있는 Fare를 로그변환\n",
    "train_df['Fare_log'] = np.log1p( train_df['Fare']  )\n",
    "test_df['Fare_log'] = np.log1p( test_df['Fare'] )\n",
    "# 1. 스케일러 생성\n",
    "sc = StandardScaler()\n",
    "# 2. 스케일러 훈련(fit)\n",
    "sc.fit( train_df[ ['Age', 'Fare_log'] ] )\n",
    "# 3. 변형(transform)\n",
    "train_df[ ['Age_s', 'Fare_s'] ] = sc.transform( train_df[ ['Age', 'Fare_log'] ] )\n",
    "test_df[ ['Age_s', 'Fare_s'] ] = sc.transform( test_df[ ['Age', 'Fare_log'] ] )"
   ]
  },
  {
   "cell_type": "code",
   "execution_count": null,
   "id": "52b90ebb-f4a6-4df5-b0ed-119c7d36f248",
   "metadata": {},
   "outputs": [],
   "source": [
    "EDA\n",
    "결측 데이터 처리\n",
    "Feature engineering\n",
    "    - 데이터가 아닌 것을 데이터로 추출\n",
    "    - Feature Selection\n",
    "    - Scailing => standard 스케일링\n",
    "    - Encoding"
   ]
  },
  {
   "cell_type": "markdown",
   "id": "b9142ff3-2ea7-46f4-ae62-a0dd7946832a",
   "metadata": {},
   "source": [
    "## 인코딩\n",
    "- 원핫인코딩 => 0, 1로 바꿔줌\n",
    "- Pclass, Sex, Embarked"
   ]
  },
  {
   "cell_type": "code",
   "execution_count": 79,
   "id": "67f3ccb1-6ad1-4307-b254-713fea640224",
   "metadata": {},
   "outputs": [],
   "source": [
    "from sklearn.preprocessing import OneHotEncoder"
   ]
  },
  {
   "cell_type": "code",
   "execution_count": 89,
   "id": "f5da9939-8c8e-4fbf-8416-e993c5290685",
   "metadata": {},
   "outputs": [],
   "source": [
    "onehot = OneHotEncoder(sparse_output=False, drop='first')\n",
    "onehot.fit( train_df[['Pclass', 'Sex', 'Embarked']] )\n",
    "train_df[ onehot.get_feature_names_out() ] = onehot.transform( train_df[['Pclass', 'Sex', 'Embarked']] )\n",
    "test_df[ onehot.get_feature_names_out() ] = onehot.transform( test_df[['Pclass', 'Sex', 'Embarked']] )"
   ]
  },
  {
   "cell_type": "markdown",
   "id": "2b30ad00-286e-41fc-a271-0c3acefcc00b",
   "metadata": {},
   "source": [
    "# 데이터 정리"
   ]
  },
  {
   "cell_type": "code",
   "execution_count": 97,
   "id": "0bad6dbf-4754-4161-ba8d-1b930461a82a",
   "metadata": {
    "editable": true,
    "slideshow": {
     "slide_type": ""
    },
    "tags": []
   },
   "outputs": [],
   "source": [
    "train_df.columns\n",
    "\n",
    "features = ['Age_s', 'Fare_s', 'Pclass_2', 'Pclass_3', 'Sex_male', 'Embarked_Q',\n",
    "            'Embarked_S']\n",
    "X = train_df[features]\n",
    "y = train_df['Survived']\n",
    "test_X = test_df[features]"
   ]
  },
  {
   "cell_type": "code",
   "execution_count": 98,
   "id": "0df13495-905c-440b-860b-08b0abcf16d8",
   "metadata": {},
   "outputs": [],
   "source": [
    "from sklearn.model_selection import train_test_split\n",
    "\n",
    "train_x, valid_x, train_y, valid_y = train_test_split( X, y, \n",
    "                                                      test_size=0.3, \n",
    "                                                      random_state=13, \n",
    "                                                      stratify=y )"
   ]
  },
  {
   "cell_type": "markdown",
   "id": "1958480a-fd41-4f80-9c62-9ae4c4bbe9dd",
   "metadata": {},
   "source": [
    "# KNN 모델"
   ]
  },
  {
   "cell_type": "code",
   "execution_count": 100,
   "id": "710ac728-8edd-449e-8d46-4248f51baca7",
   "metadata": {},
   "outputs": [],
   "source": [
    "from sklearn.neighbors import KNeighborsClassifier\n",
    "from sklearn.model_selection import cross_val_score"
   ]
  },
  {
   "cell_type": "code",
   "execution_count": 104,
   "id": "e08aa8ee-2e1c-41ed-833d-282feef40820",
   "metadata": {},
   "outputs": [],
   "source": [
    "# 0. 교차검증을 통해서 하이퍼 파라미터 K를 찾아보자\n",
    "\n",
    "score_list = []\n",
    "for k in range(1, 51):\n",
    "    score = cross_val_score( KNeighborsClassifier(k), train_x, train_y, cv=5 ).mean()\n",
    "    score_list.append(score)"
   ]
  },
  {
   "cell_type": "code",
   "execution_count": 105,
   "id": "e019535b-1a67-43d7-9410-8e8fccdeb4d7",
   "metadata": {},
   "outputs": [
    {
     "data": {
      "image/png": "[encoded data removed]",
      "text/plain": [
       "<Figure size 500x300 with 1 Axes>"
      ]
     },
     "metadata": {},
     "output_type": "display_data"
    }
   ],
   "source": [
    "plt.figure(figsize=(5, 3))\n",
    "plt.plot( range(1, 51), score_list )\n",
    "plt.show()"
   ]
  },
  {
   "cell_type": "code",
   "execution_count": 107,
   "id": "e035c395-88dd-4f21-9432-35183a0ad110",
   "metadata": {},
   "outputs": [
    {
     "data": {
      "text/plain": [
       "0.7723880597014925"
      ]
     },
     "execution_count": 107,
     "metadata": {},
     "output_type": "execute_result"
    }
   ],
   "source": [
    "# 1. 모델 생성\n",
    "knn = KNeighborsClassifier(13)\n",
    "# 2. 훈련\n",
    "knn.fit(train_x, train_y)\n",
    "# 3. 검증, 예측\n",
    "knn.score(valid_x, valid_y)"
   ]
  },
  {
   "cell_type": "code",
   "execution_count": 115,
   "id": "369d2b15-cbb7-46b8-aa90-053509698571",
   "metadata": {
    "editable": true,
    "slideshow": {
     "slide_type": ""
    },
    "tags": []
   },
   "outputs": [],
   "source": [
    "# 예측해서 제출\n",
    "submit_knn = test_df[['PassengerId']].copy()\n",
    "submit_knn['Survived'] = knn.predict(test_X)\n",
    "submit_knn.to_csv( r'C:\\Users\\USER\\OneDrive\\Desktop\\2025 수업\\DA양성과정 ML\\knn_result.csv',\n",
    "                  index=False )"
   ]
  },
  {
   "cell_type": "markdown",
   "id": "da021cbb-1778-4beb-844a-091f26321d57",
   "metadata": {},
   "source": [
    "# Tree 모델\n",
    "- gini 계수 => 데이터 순수성\n",
    "- 데이터가 가장 순수해지는 feature를 이용을해서 계속 2개로 분류해 나감\n",
    "- 예측력 소소...\n",
    "- 해석력은 좋음, 중요한 feature를 고를 수 있게 해줌\n",
    "- 오버피팅 => 따로 멈추지 않으면 끝까지 들어가서 오버피팅이 됨"
   ]
  },
  {
   "cell_type": "code",
   "execution_count": 141,
   "id": "661eca2b-889a-4ab8-8aac-8879c558b2a6",
   "metadata": {},
   "outputs": [],
   "source": [
    "from sklearn.tree import DecisionTreeClassifier, plot_tree\n",
    "from sklearn.model_selection import GridSearchCV"
   ]
  },
  {
   "cell_type": "code",
   "execution_count": 120,
   "id": "74dfe3ff-1038-47bf-bcb6-b1e69c3d9cab",
   "metadata": {
    "scrolled": true
   },
   "outputs": [
    {
     "data": {
      "text/html": [
       "<style>#sk-container-id-7 {color: black;background-color: white;}#sk-container-id-7 pre{padding: 0;}#sk-container-id-7 div.sk-toggleable {background-color: white;}#sk-container-id-7 label.sk-toggleable__label {cursor: pointer;display: block;width: 100%;margin-bottom: 0;padding: 0.3em;box-sizing: border-box;text-align: center;}#sk-container-id-7 label.sk-toggleable__label-arrow:before {content: \"▸\";float: left;margin-right: 0.25em;color: #696969;}#sk-container-id-7 label.sk-toggleable__label-arrow:hover:before {color: black;}#sk-container-id-7 div.sk-estimator:hover label.sk-toggleable__label-arrow:before {color: black;}#sk-container-id-7 div.sk-toggleable__content {max-height: 0;max-width: 0;overflow: hidden;text-align: left;background-color: #f0f8ff;}#sk-container-id-7 div.sk-toggleable__content pre {margin: 0.2em;color: black;border-radius: 0.25em;background-color: #f0f8ff;}#sk-container-id-7 input.sk-toggleable__control:checked~div.sk-toggleable__content {max-height: 200px;max-width: 100%;overflow: auto;}#sk-container-id-7 input.sk-toggleable__control:checked~label.sk-toggleable__label-arrow:before {content: \"▾\";}#sk-container-id-7 div.sk-estimator input.sk-toggleable__control:checked~label.sk-toggleable__label {background-color: #d4ebff;}#sk-container-id-7 div.sk-label input.sk-toggleable__control:checked~label.sk-toggleable__label {background-color: #d4ebff;}#sk-container-id-7 input.sk-hidden--visually {border: 0;clip: rect(1px 1px 1px 1px);clip: rect(1px, 1px, 1px, 1px);height: 1px;margin: -1px;overflow: hidden;padding: 0;position: absolute;width: 1px;}#sk-container-id-7 div.sk-estimator {font-family: monospace;background-color: #f0f8ff;border: 1px dotted black;border-radius: 0.25em;box-sizing: border-box;margin-bottom: 0.5em;}#sk-container-id-7 div.sk-estimator:hover {background-color: #d4ebff;}#sk-container-id-7 div.sk-parallel-item::after {content: \"\";width: 100%;border-bottom: 1px solid gray;flex-grow: 1;}#sk-container-id-7 div.sk-label:hover label.sk-toggleable__label {background-color: #d4ebff;}#sk-container-id-7 div.sk-serial::before {content: \"\";position: absolute;border-left: 1px solid gray;box-sizing: border-box;top: 0;bottom: 0;left: 50%;z-index: 0;}#sk-container-id-7 div.sk-serial {display: flex;flex-direction: column;align-items: center;background-color: white;padding-right: 0.2em;padding-left: 0.2em;position: relative;}#sk-container-id-7 div.sk-item {position: relative;z-index: 1;}#sk-container-id-7 div.sk-parallel {display: flex;align-items: stretch;justify-content: center;background-color: white;position: relative;}#sk-container-id-7 div.sk-item::before, #sk-container-id-7 div.sk-parallel-item::before {content: \"\";position: absolute;border-left: 1px solid gray;box-sizing: border-box;top: 0;bottom: 0;left: 50%;z-index: -1;}#sk-container-id-7 div.sk-parallel-item {display: flex;flex-direction: column;z-index: 1;position: relative;background-color: white;}#sk-container-id-7 div.sk-parallel-item:first-child::after {align-self: flex-end;width: 50%;}#sk-container-id-7 div.sk-parallel-item:last-child::after {align-self: flex-start;width: 50%;}#sk-container-id-7 div.sk-parallel-item:only-child::after {width: 0;}#sk-container-id-7 div.sk-dashed-wrapped {border: 1px dashed gray;margin: 0 0.4em 0.5em 0.4em;box-sizing: border-box;padding-bottom: 0.4em;background-color: white;}#sk-container-id-7 div.sk-label label {font-family: monospace;font-weight: bold;display: inline-block;line-height: 1.2em;}#sk-container-id-7 div.sk-label-container {text-align: center;}#sk-container-id-7 div.sk-container {/* jupyter's `normalize.less` sets `[hidden] { display: none; }` but bootstrap.min.css set `[hidden] { display: none !important; }` so we also need the `!important` here to be able to override the default hidden behavior on the sphinx rendered scikit-learn.org. See: https://github.com/scikit-learn/scikit-learn/issues/21755 */display: inline-block !important;position: relative;}#sk-container-id-7 div.sk-text-repr-fallback {display: none;}</style><div id=\"sk-container-id-7\" class=\"sk-top-container\"><div class=\"sk-text-repr-fallback\"><pre>GridSearchCV(cv=5, estimator=DecisionTreeClassifier(),\n",
       "             param_grid={&#x27;max_depth&#x27;: [None, 3, 5, 10, 15],\n",
       "                         &#x27;min_samples_leaf&#x27;: [1, 5, 10, 15]})</pre><b>In a Jupyter environment, please rerun this cell to show the HTML representation or trust the notebook. <br />On GitHub, the HTML representation is unable to render, please try loading this page with nbviewer.org.</b></div><div class=\"sk-container\" hidden><div class=\"sk-item sk-dashed-wrapped\"><div class=\"sk-label-container\"><div class=\"sk-label sk-toggleable\"><input class=\"sk-toggleable__control sk-hidden--visually\" id=\"sk-estimator-id-9\" type=\"checkbox\" ><label for=\"sk-estimator-id-9\" class=\"sk-toggleable__label sk-toggleable__label-arrow\">GridSearchCV</label><div class=\"sk-toggleable__content\"><pre>GridSearchCV(cv=5, estimator=DecisionTreeClassifier(),\n",
       "             param_grid={&#x27;max_depth&#x27;: [None, 3, 5, 10, 15],\n",
       "                         &#x27;min_samples_leaf&#x27;: [1, 5, 10, 15]})</pre></div></div></div><div class=\"sk-parallel\"><div class=\"sk-parallel-item\"><div class=\"sk-item\"><div class=\"sk-label-container\"><div class=\"sk-label sk-toggleable\"><input class=\"sk-toggleable__control sk-hidden--visually\" id=\"sk-estimator-id-10\" type=\"checkbox\" ><label for=\"sk-estimator-id-10\" class=\"sk-toggleable__label sk-toggleable__label-arrow\">estimator: DecisionTreeClassifier</label><div class=\"sk-toggleable__content\"><pre>DecisionTreeClassifier()</pre></div></div></div><div class=\"sk-serial\"><div class=\"sk-item\"><div class=\"sk-estimator sk-toggleable\"><input class=\"sk-toggleable__control sk-hidden--visually\" id=\"sk-estimator-id-11\" type=\"checkbox\" ><label for=\"sk-estimator-id-11\" class=\"sk-toggleable__label sk-toggleable__label-arrow\">DecisionTreeClassifier</label><div class=\"sk-toggleable__content\"><pre>DecisionTreeClassifier()</pre></div></div></div></div></div></div></div></div></div></div>"
      ],
      "text/plain": [
       "GridSearchCV(cv=5, estimator=DecisionTreeClassifier(),\n",
       "             param_grid={'max_depth': [None, 3, 5, 10, 15],\n",
       "                         'min_samples_leaf': [1, 5, 10, 15]})"
      ]
     },
     "execution_count": 120,
     "metadata": {},
     "output_type": "execute_result"
    }
   ],
   "source": [
    "   params = { \n",
    "            'max_depth': [1, 5, 10, 15, 25],\n",
    "            'min_samples_leaf':[1, 5, 10, 15]\n",
    "        }\n",
    "\n",
    "grid_tree = GridSearchCV( DecisionTreeClassifier(),  params, cv=5)\n",
    "grid_tree.fit(train_x, train_y)"
   ]
  },
  {
   "cell_type": "code",
   "execution_count": 133,
   "id": "9bc0fb19-c754-4820-9b40-6950628681d3",
   "metadata": {
    "scrolled": true
   },
   "outputs": [
    {
     "data": {
      "text/html": [
       "<div>\n",
       "<style scoped>\n",
       "    .dataframe tbody tr th:only-of-type {\n",
       "        vertical-align: middle;\n",
       "    }\n",
       "\n",
       "    .dataframe tbody tr th {\n",
       "        vertical-align: top;\n",
       "    }\n",
       "\n",
       "    .dataframe thead tr th {\n",
       "        text-align: left;\n",
       "    }\n",
       "\n",
       "    .dataframe thead tr:last-of-type th {\n",
       "        text-align: right;\n",
       "    }\n",
       "</style>\n",
       "<table border=\"1\" class=\"dataframe\">\n",
       "  <thead>\n",
       "    <tr>\n",
       "      <th></th>\n",
       "      <th colspan=\"4\" halign=\"left\">score</th>\n",
       "    </tr>\n",
       "    <tr>\n",
       "      <th>min_samples_leaf</th>\n",
       "      <th>1</th>\n",
       "      <th>5</th>\n",
       "      <th>10</th>\n",
       "      <th>15</th>\n",
       "    </tr>\n",
       "    <tr>\n",
       "      <th>max_depth</th>\n",
       "      <th></th>\n",
       "      <th></th>\n",
       "      <th></th>\n",
       "      <th></th>\n",
       "    </tr>\n",
       "  </thead>\n",
       "  <tbody>\n",
       "    <tr>\n",
       "      <th>3.0</th>\n",
       "      <td>0.800955</td>\n",
       "      <td>0.804155</td>\n",
       "      <td>0.802594</td>\n",
       "      <td>0.783329</td>\n",
       "    </tr>\n",
       "    <tr>\n",
       "      <th>5.0</th>\n",
       "      <td>0.802594</td>\n",
       "      <td>0.797755</td>\n",
       "      <td>0.789716</td>\n",
       "      <td>0.770516</td>\n",
       "    </tr>\n",
       "    <tr>\n",
       "      <th>10.0</th>\n",
       "      <td>0.786477</td>\n",
       "      <td>0.791277</td>\n",
       "      <td>0.781729</td>\n",
       "      <td>0.768903</td>\n",
       "    </tr>\n",
       "    <tr>\n",
       "      <th>15.0</th>\n",
       "      <td>0.759226</td>\n",
       "      <td>0.792890</td>\n",
       "      <td>0.784929</td>\n",
       "      <td>0.768903</td>\n",
       "    </tr>\n",
       "  </tbody>\n",
       "</table>\n",
       "</div>"
      ],
      "text/plain": [
       "                     score                              \n",
       "min_samples_leaf        1         5         10        15\n",
       "max_depth                                               \n",
       "3.0               0.800955  0.804155  0.802594  0.783329\n",
       "5.0               0.802594  0.797755  0.789716  0.770516\n",
       "10.0              0.786477  0.791277  0.781729  0.768903\n",
       "15.0              0.759226  0.792890  0.784929  0.768903"
      ]
     },
     "execution_count": 133,
     "metadata": {},
     "output_type": "execute_result"
    }
   ],
   "source": [
    "test = pd.DataFrame( grid_tree.cv_results_['params'] )\n",
    "test['score'] = grid_tree.cv_results_['mean_test_score']\n",
    "pd.pivot_table( test, index='max_depth', columns='min_samples_leaf' )"
   ]
  },
  {
   "cell_type": "code",
   "execution_count": 134,
   "id": "b76225dd-5b24-45d4-b387-982039dbed88",
   "metadata": {},
   "outputs": [
    {
     "data": {
      "text/plain": [
       "0.8283582089552238"
      ]
     },
     "execution_count": 134,
     "metadata": {},
     "output_type": "execute_result"
    }
   ],
   "source": [
    "grid_tree.score( valid_x, valid_y )"
   ]
  },
  {
   "cell_type": "code",
   "execution_count": null,
   "id": "ecd3f642-0c54-40ad-bd8c-87a1f5a97770",
   "metadata": {},
   "outputs": [],
   "source": [
    "# 예측해서 제출\n",
    "submit_tree = test_df[['PassengerId']].copy()\n",
    "submit_tree['Survived'] = grid_tree.predict( test_X )\n",
    "submit_tree.to_csv( r'C:\\Users\\USER\\OneDrive\\Desktop\\2025 수업\\tree_result.csv',\n",
    "                  index=False )"
   ]
  },
  {
   "cell_type": "code",
   "execution_count": 139,
   "id": "d6726de5-6f03-4d7c-8e6b-516e5f6b3ec5",
   "metadata": {},
   "outputs": [
    {
     "data": {
      "text/plain": [
       "array([0.10478338, 0.11955114, 0.        , 0.15569741, 0.61996807,\n",
       "       0.        , 0.        ])"
      ]
     },
     "execution_count": 139,
     "metadata": {},
     "output_type": "execute_result"
    }
   ],
   "source": [
    "grid_tree.best_estimator_.feature_importances_"
   ]
  },
  {
   "cell_type": "code",
   "execution_count": 140,
   "id": "4f24e22a-7e84-436c-9fb7-c3fc2ebd4abb",
   "metadata": {},
   "outputs": [
    {
     "data": {
      "text/plain": [
       "array(['Age_s', 'Fare_s', 'Pclass_2', 'Pclass_3', 'Sex_male',\n",
       "       'Embarked_Q', 'Embarked_S'], dtype=object)"
      ]
     },
     "execution_count": 140,
     "metadata": {},
     "output_type": "execute_result"
    }
   ],
   "source": [
    "grid_tree.best_estimator_.feature_names_in_"
   ]
  },
  {
   "cell_type": "code",
   "execution_count": null,
   "id": "40649161-850e-4a49-8904-beab5f684d59",
   "metadata": {},
   "outputs": [],
   "source": [
    "plt.figure(dpi=400)\n",
    "plot_tree(grid_tree.best_estimator_, \n",
    "          feature_names=grid_tree.best_estimator_.feature_names_in_)\n",
    "plt.show()"
   ]
  },
  {
   "cell_type": "markdown",
   "id": "a067efe6-0328-4a32-9f8f-ec9943b9038d",
   "metadata": {},
   "source": [
    "# Random Forest\n",
    "- 약한 트리 모델 100개 만들어서 합쳐보자...\n",
    "- 다양성\n",
    "    - feature를 랜덤하게 선택...\n",
    "    - 각 나무마다 훈련하는 데이터도 다시 샘플링하여 다르게 함"
   ]
  },
  {
   "cell_type": "code",
   "execution_count": 146,
   "id": "13cfe1ca-4236-48cc-ab5e-9a829ebd7b1e",
   "metadata": {},
   "outputs": [],
   "source": [
    "from sklearn.ensemble import RandomForestClassifier"
   ]
  },
  {
   "cell_type": "code",
   "execution_count": 147,
   "id": "31d12703-6142-44e6-9da9-76e09412223a",
   "metadata": {},
   "outputs": [
    {
     "data": {
      "text/html": [
       "<style>#sk-container-id-11 {color: black;background-color: white;}#sk-container-id-11 pre{padding: 0;}#sk-container-id-11 div.sk-toggleable {background-color: white;}#sk-container-id-11 label.sk-toggleable__label {cursor: pointer;display: block;width: 100%;margin-bottom: 0;padding: 0.3em;box-sizing: border-box;text-align: center;}#sk-container-id-11 label.sk-toggleable__label-arrow:before {content: \"▸\";float: left;margin-right: 0.25em;color: #696969;}#sk-container-id-11 label.sk-toggleable__label-arrow:hover:before {color: black;}#sk-container-id-11 div.sk-estimator:hover label.sk-toggleable__label-arrow:before {color: black;}#sk-container-id-11 div.sk-toggleable__content {max-height: 0;max-width: 0;overflow: hidden;text-align: left;background-color: #f0f8ff;}#sk-container-id-11 div.sk-toggleable__content pre {margin: 0.2em;color: black;border-radius: 0.25em;background-color: #f0f8ff;}#sk-container-id-11 input.sk-toggleable__control:checked~div.sk-toggleable__content {max-height: 200px;max-width: 100%;overflow: auto;}#sk-container-id-11 input.sk-toggleable__control:checked~label.sk-toggleable__label-arrow:before {content: \"▾\";}#sk-container-id-11 div.sk-estimator input.sk-toggleable__control:checked~label.sk-toggleable__label {background-color: #d4ebff;}#sk-container-id-11 div.sk-label input.sk-toggleable__control:checked~label.sk-toggleable__label {background-color: #d4ebff;}#sk-container-id-11 input.sk-hidden--visually {border: 0;clip: rect(1px 1px 1px 1px);clip: rect(1px, 1px, 1px, 1px);height: 1px;margin: -1px;overflow: hidden;padding: 0;position: absolute;width: 1px;}#sk-container-id-11 div.sk-estimator {font-family: monospace;background-color: #f0f8ff;border: 1px dotted black;border-radius: 0.25em;box-sizing: border-box;margin-bottom: 0.5em;}#sk-container-id-11 div.sk-estimator:hover {background-color: #d4ebff;}#sk-container-id-11 div.sk-parallel-item::after {content: \"\";width: 100%;border-bottom: 1px solid gray;flex-grow: 1;}#sk-container-id-11 div.sk-label:hover label.sk-toggleable__label {background-color: #d4ebff;}#sk-container-id-11 div.sk-serial::before {content: \"\";position: absolute;border-left: 1px solid gray;box-sizing: border-box;top: 0;bottom: 0;left: 50%;z-index: 0;}#sk-container-id-11 div.sk-serial {display: flex;flex-direction: column;align-items: center;background-color: white;padding-right: 0.2em;padding-left: 0.2em;position: relative;}#sk-container-id-11 div.sk-item {position: relative;z-index: 1;}#sk-container-id-11 div.sk-parallel {display: flex;align-items: stretch;justify-content: center;background-color: white;position: relative;}#sk-container-id-11 div.sk-item::before, #sk-container-id-11 div.sk-parallel-item::before {content: \"\";position: absolute;border-left: 1px solid gray;box-sizing: border-box;top: 0;bottom: 0;left: 50%;z-index: -1;}#sk-container-id-11 div.sk-parallel-item {display: flex;flex-direction: column;z-index: 1;position: relative;background-color: white;}#sk-container-id-11 div.sk-parallel-item:first-child::after {align-self: flex-end;width: 50%;}#sk-container-id-11 div.sk-parallel-item:last-child::after {align-self: flex-start;width: 50%;}#sk-container-id-11 div.sk-parallel-item:only-child::after {width: 0;}#sk-container-id-11 div.sk-dashed-wrapped {border: 1px dashed gray;margin: 0 0.4em 0.5em 0.4em;box-sizing: border-box;padding-bottom: 0.4em;background-color: white;}#sk-container-id-11 div.sk-label label {font-family: monospace;font-weight: bold;display: inline-block;line-height: 1.2em;}#sk-container-id-11 div.sk-label-container {text-align: center;}#sk-container-id-11 div.sk-container {/* jupyter's `normalize.less` sets `[hidden] { display: none; }` but bootstrap.min.css set `[hidden] { display: none !important; }` so we also need the `!important` here to be able to override the default hidden behavior on the sphinx rendered scikit-learn.org. See: https://github.com/scikit-learn/scikit-learn/issues/21755 */display: inline-block !important;position: relative;}#sk-container-id-11 div.sk-text-repr-fallback {display: none;}</style><div id=\"sk-container-id-11\" class=\"sk-top-container\"><div class=\"sk-text-repr-fallback\"><pre>GridSearchCV(cv=5, estimator=RandomForestClassifier(),\n",
       "             param_grid={&#x27;max_depth&#x27;: [5, 10, 15, 20],\n",
       "                         &#x27;min_samples_leaf&#x27;: [1, 5, 10, 15]})</pre><b>In a Jupyter environment, please rerun this cell to show the HTML representation or trust the notebook. <br />On GitHub, the HTML representation is unable to render, please try loading this page with nbviewer.org.</b></div><div class=\"sk-container\" hidden><div class=\"sk-item sk-dashed-wrapped\"><div class=\"sk-label-container\"><div class=\"sk-label sk-toggleable\"><input class=\"sk-toggleable__control sk-hidden--visually\" id=\"sk-estimator-id-17\" type=\"checkbox\" ><label for=\"sk-estimator-id-17\" class=\"sk-toggleable__label sk-toggleable__label-arrow\">GridSearchCV</label><div class=\"sk-toggleable__content\"><pre>GridSearchCV(cv=5, estimator=RandomForestClassifier(),\n",
       "             param_grid={&#x27;max_depth&#x27;: [5, 10, 15, 20],\n",
       "                         &#x27;min_samples_leaf&#x27;: [1, 5, 10, 15]})</pre></div></div></div><div class=\"sk-parallel\"><div class=\"sk-parallel-item\"><div class=\"sk-item\"><div class=\"sk-label-container\"><div class=\"sk-label sk-toggleable\"><input class=\"sk-toggleable__control sk-hidden--visually\" id=\"sk-estimator-id-18\" type=\"checkbox\" ><label for=\"sk-estimator-id-18\" class=\"sk-toggleable__label sk-toggleable__label-arrow\">estimator: RandomForestClassifier</label><div class=\"sk-toggleable__content\"><pre>RandomForestClassifier()</pre></div></div></div><div class=\"sk-serial\"><div class=\"sk-item\"><div class=\"sk-estimator sk-toggleable\"><input class=\"sk-toggleable__control sk-hidden--visually\" id=\"sk-estimator-id-19\" type=\"checkbox\" ><label for=\"sk-estimator-id-19\" class=\"sk-toggleable__label sk-toggleable__label-arrow\">RandomForestClassifier</label><div class=\"sk-toggleable__content\"><pre>RandomForestClassifier()</pre></div></div></div></div></div></div></div></div></div></div>"
      ],
      "text/plain": [
       "GridSearchCV(cv=5, estimator=RandomForestClassifier(),\n",
       "             param_grid={'max_depth': [5, 10, 15, 20],\n",
       "                         'min_samples_leaf': [1, 5, 10, 15]})"
      ]
     },
     "execution_count": 147,
     "metadata": {},
     "output_type": "execute_result"
    }
   ],
   "source": [
    "params = {'max_depth':[5, 10, 15, 20],\n",
    "          'min_samples_leaf':[1, 5, 10, 15]}\n",
    "grid_rf = GridSearchCV( RandomForestClassifier(), params, cv=5 )\n",
    "grid_rf.fit(train_x, train_y)"
   ]
  },
  {
   "cell_type": "code",
   "execution_count": 149,
   "id": "4a1387c9-261a-40fd-97de-1c92dd7976ae",
   "metadata": {},
   "outputs": [
    {
     "data": {
      "text/html": [
       "<div>\n",
       "<style scoped>\n",
       "    .dataframe tbody tr th:only-of-type {\n",
       "        vertical-align: middle;\n",
       "    }\n",
       "\n",
       "    .dataframe tbody tr th {\n",
       "        vertical-align: top;\n",
       "    }\n",
       "\n",
       "    .dataframe thead tr th {\n",
       "        text-align: left;\n",
       "    }\n",
       "\n",
       "    .dataframe thead tr:last-of-type th {\n",
       "        text-align: right;\n",
       "    }\n",
       "</style>\n",
       "<table border=\"1\" class=\"dataframe\">\n",
       "  <thead>\n",
       "    <tr>\n",
       "      <th></th>\n",
       "      <th colspan=\"4\" halign=\"left\">score</th>\n",
       "    </tr>\n",
       "    <tr>\n",
       "      <th>min_samples_leaf</th>\n",
       "      <th>1</th>\n",
       "      <th>5</th>\n",
       "      <th>10</th>\n",
       "      <th>15</th>\n",
       "    </tr>\n",
       "    <tr>\n",
       "      <th>max_depth</th>\n",
       "      <th></th>\n",
       "      <th></th>\n",
       "      <th></th>\n",
       "      <th></th>\n",
       "    </tr>\n",
       "  </thead>\n",
       "  <tbody>\n",
       "    <tr>\n",
       "      <th>5</th>\n",
       "      <td>0.813794</td>\n",
       "      <td>0.800994</td>\n",
       "      <td>0.796142</td>\n",
       "      <td>0.788181</td>\n",
       "    </tr>\n",
       "    <tr>\n",
       "      <th>10</th>\n",
       "      <td>0.801019</td>\n",
       "      <td>0.800981</td>\n",
       "      <td>0.797768</td>\n",
       "      <td>0.791368</td>\n",
       "    </tr>\n",
       "    <tr>\n",
       "      <th>15</th>\n",
       "      <td>0.794555</td>\n",
       "      <td>0.792994</td>\n",
       "      <td>0.792929</td>\n",
       "      <td>0.792968</td>\n",
       "    </tr>\n",
       "    <tr>\n",
       "      <th>20</th>\n",
       "      <td>0.786516</td>\n",
       "      <td>0.799406</td>\n",
       "      <td>0.804181</td>\n",
       "      <td>0.789729</td>\n",
       "    </tr>\n",
       "  </tbody>\n",
       "</table>\n",
       "</div>"
      ],
      "text/plain": [
       "                     score                              \n",
       "min_samples_leaf        1         5         10        15\n",
       "max_depth                                               \n",
       "5                 0.813794  0.800994  0.796142  0.788181\n",
       "10                0.801019  0.800981  0.797768  0.791368\n",
       "15                0.794555  0.792994  0.792929  0.792968\n",
       "20                0.786516  0.799406  0.804181  0.789729"
      ]
     },
     "execution_count": 149,
     "metadata": {},
     "output_type": "execute_result"
    }
   ],
   "source": [
    "test = pd.DataFrame( grid_rf.cv_results_['params'] )\n",
    "test['score'] = grid_rf.cv_results_['mean_test_score']\n",
    "pd.pivot_table( test, index='max_depth', columns='min_samples_leaf' )"
   ]
  },
  {
   "cell_type": "code",
   "execution_count": 150,
   "id": "7b0b1938-82c5-46e5-a72a-e3f1f6674ca9",
   "metadata": {},
   "outputs": [
    {
     "data": {
      "text/plain": [
       "array([0.17126921, 0.25161462, 0.02310145, 0.13066366, 0.38409835,\n",
       "       0.01398012, 0.02527259])"
      ]
     },
     "execution_count": 150,
     "metadata": {},
     "output_type": "execute_result"
    }
   ],
   "source": [
    "grid_rf.best_estimator_.feature_importances_"
   ]
  },
  {
   "cell_type": "code",
   "execution_count": 151,
   "id": "24517845-c11f-4cd4-aed7-47e0e5b8f400",
   "metadata": {},
   "outputs": [
    {
     "data": {
      "text/plain": [
       "array(['Age_s', 'Fare_s', 'Pclass_2', 'Pclass_3', 'Sex_male',\n",
       "       'Embarked_Q', 'Embarked_S'], dtype=object)"
      ]
     },
     "execution_count": 151,
     "metadata": {},
     "output_type": "execute_result"
    }
   ],
   "source": [
    "grid_rf.best_estimator_.feature_names_in_"
   ]
  },
  {
   "cell_type": "markdown",
   "id": "ffcafbdd-8206-4cbf-bda6-0a73f57faf25",
   "metadata": {},
   "source": [
    "# SVM\n",
    "- 해석력 나쁨, 성능 소소\n",
    "- 수학적 => 공부하긴 좋음...\n",
    "- C => 경계선 부근 얼마 오차를 허용할 것이냐\n",
    "- rbg 커널 => gamma : 경계선 부근의 데이터에 얼마나 웨이트를 줄것이냐"
   ]
  },
  {
   "cell_type": "code",
   "execution_count": 152,
   "id": "a30bba85-cbd6-4e1c-8d04-cd7ffeaf5ee3",
   "metadata": {},
   "outputs": [],
   "source": [
    "from sklearn.svm import SVC"
   ]
  },
  {
   "cell_type": "code",
   "execution_count": 154,
   "id": "857c4a4c-8566-4582-b434-1540702c45b5",
   "metadata": {},
   "outputs": [
    {
     "data": {
      "text/html": [
       "<style>#sk-container-id-12 {color: black;background-color: white;}#sk-container-id-12 pre{padding: 0;}#sk-container-id-12 div.sk-toggleable {background-color: white;}#sk-container-id-12 label.sk-toggleable__label {cursor: pointer;display: block;width: 100%;margin-bottom: 0;padding: 0.3em;box-sizing: border-box;text-align: center;}#sk-container-id-12 label.sk-toggleable__label-arrow:before {content: \"▸\";float: left;margin-right: 0.25em;color: #696969;}#sk-container-id-12 label.sk-toggleable__label-arrow:hover:before {color: black;}#sk-container-id-12 div.sk-estimator:hover label.sk-toggleable__label-arrow:before {color: black;}#sk-container-id-12 div.sk-toggleable__content {max-height: 0;max-width: 0;overflow: hidden;text-align: left;background-color: #f0f8ff;}#sk-container-id-12 div.sk-toggleable__content pre {margin: 0.2em;color: black;border-radius: 0.25em;background-color: #f0f8ff;}#sk-container-id-12 input.sk-toggleable__control:checked~div.sk-toggleable__content {max-height: 200px;max-width: 100%;overflow: auto;}#sk-container-id-12 input.sk-toggleable__control:checked~label.sk-toggleable__label-arrow:before {content: \"▾\";}#sk-container-id-12 div.sk-estimator input.sk-toggleable__control:checked~label.sk-toggleable__label {background-color: #d4ebff;}#sk-container-id-12 div.sk-label input.sk-toggleable__control:checked~label.sk-toggleable__label {background-color: #d4ebff;}#sk-container-id-12 input.sk-hidden--visually {border: 0;clip: rect(1px 1px 1px 1px);clip: rect(1px, 1px, 1px, 1px);height: 1px;margin: -1px;overflow: hidden;padding: 0;position: absolute;width: 1px;}#sk-container-id-12 div.sk-estimator {font-family: monospace;background-color: #f0f8ff;border: 1px dotted black;border-radius: 0.25em;box-sizing: border-box;margin-bottom: 0.5em;}#sk-container-id-12 div.sk-estimator:hover {background-color: #d4ebff;}#sk-container-id-12 div.sk-parallel-item::after {content: \"\";width: 100%;border-bottom: 1px solid gray;flex-grow: 1;}#sk-container-id-12 div.sk-label:hover label.sk-toggleable__label {background-color: #d4ebff;}#sk-container-id-12 div.sk-serial::before {content: \"\";position: absolute;border-left: 1px solid gray;box-sizing: border-box;top: 0;bottom: 0;left: 50%;z-index: 0;}#sk-container-id-12 div.sk-serial {display: flex;flex-direction: column;align-items: center;background-color: white;padding-right: 0.2em;padding-left: 0.2em;position: relative;}#sk-container-id-12 div.sk-item {position: relative;z-index: 1;}#sk-container-id-12 div.sk-parallel {display: flex;align-items: stretch;justify-content: center;background-color: white;position: relative;}#sk-container-id-12 div.sk-item::before, #sk-container-id-12 div.sk-parallel-item::before {content: \"\";position: absolute;border-left: 1px solid gray;box-sizing: border-box;top: 0;bottom: 0;left: 50%;z-index: -1;}#sk-container-id-12 div.sk-parallel-item {display: flex;flex-direction: column;z-index: 1;position: relative;background-color: white;}#sk-container-id-12 div.sk-parallel-item:first-child::after {align-self: flex-end;width: 50%;}#sk-container-id-12 div.sk-parallel-item:last-child::after {align-self: flex-start;width: 50%;}#sk-container-id-12 div.sk-parallel-item:only-child::after {width: 0;}#sk-container-id-12 div.sk-dashed-wrapped {border: 1px dashed gray;margin: 0 0.4em 0.5em 0.4em;box-sizing: border-box;padding-bottom: 0.4em;background-color: white;}#sk-container-id-12 div.sk-label label {font-family: monospace;font-weight: bold;display: inline-block;line-height: 1.2em;}#sk-container-id-12 div.sk-label-container {text-align: center;}#sk-container-id-12 div.sk-container {/* jupyter's `normalize.less` sets `[hidden] { display: none; }` but bootstrap.min.css set `[hidden] { display: none !important; }` so we also need the `!important` here to be able to override the default hidden behavior on the sphinx rendered scikit-learn.org. See: https://github.com/scikit-learn/scikit-learn/issues/21755 */display: inline-block !important;position: relative;}#sk-container-id-12 div.sk-text-repr-fallback {display: none;}</style><div id=\"sk-container-id-12\" class=\"sk-top-container\"><div class=\"sk-text-repr-fallback\"><pre>GridSearchCV(cv=5, estimator=SVC(),\n",
       "             param_grid={&#x27;C&#x27;: [0.1, 0.5, 1, 5], &#x27;gamma&#x27;: [0.1, 0.5, 1, 5]})</pre><b>In a Jupyter environment, please rerun this cell to show the HTML representation or trust the notebook. <br />On GitHub, the HTML representation is unable to render, please try loading this page with nbviewer.org.</b></div><div class=\"sk-container\" hidden><div class=\"sk-item sk-dashed-wrapped\"><div class=\"sk-label-container\"><div class=\"sk-label sk-toggleable\"><input class=\"sk-toggleable__control sk-hidden--visually\" id=\"sk-estimator-id-20\" type=\"checkbox\" ><label for=\"sk-estimator-id-20\" class=\"sk-toggleable__label sk-toggleable__label-arrow\">GridSearchCV</label><div class=\"sk-toggleable__content\"><pre>GridSearchCV(cv=5, estimator=SVC(),\n",
       "             param_grid={&#x27;C&#x27;: [0.1, 0.5, 1, 5], &#x27;gamma&#x27;: [0.1, 0.5, 1, 5]})</pre></div></div></div><div class=\"sk-parallel\"><div class=\"sk-parallel-item\"><div class=\"sk-item\"><div class=\"sk-label-container\"><div class=\"sk-label sk-toggleable\"><input class=\"sk-toggleable__control sk-hidden--visually\" id=\"sk-estimator-id-21\" type=\"checkbox\" ><label for=\"sk-estimator-id-21\" class=\"sk-toggleable__label sk-toggleable__label-arrow\">estimator: SVC</label><div class=\"sk-toggleable__content\"><pre>SVC()</pre></div></div></div><div class=\"sk-serial\"><div class=\"sk-item\"><div class=\"sk-estimator sk-toggleable\"><input class=\"sk-toggleable__control sk-hidden--visually\" id=\"sk-estimator-id-22\" type=\"checkbox\" ><label for=\"sk-estimator-id-22\" class=\"sk-toggleable__label sk-toggleable__label-arrow\">SVC</label><div class=\"sk-toggleable__content\"><pre>SVC()</pre></div></div></div></div></div></div></div></div></div></div>"
      ],
      "text/plain": [
       "GridSearchCV(cv=5, estimator=SVC(),\n",
       "             param_grid={'C': [0.1, 0.5, 1, 5], 'gamma': [0.1, 0.5, 1, 5]})"
      ]
     },
     "execution_count": 154,
     "metadata": {},
     "output_type": "execute_result"
    }
   ],
   "source": [
    "params = {'C':[0.1, 0.5, 1, 5],\n",
    "         'gamma':[0.1, 0.5, 1, 5]}\n",
    "grid_svc = GridSearchCV(SVC(), params, cv=5)\n",
    "grid_svc.fit(train_x, train_y)"
   ]
  },
  {
   "cell_type": "code",
   "execution_count": 156,
   "id": "141fa92d-3f76-4c11-ba77-47e2cac5a322",
   "metadata": {},
   "outputs": [
    {
     "data": {
      "text/html": [
       "<div>\n",
       "<style scoped>\n",
       "    .dataframe tbody tr th:only-of-type {\n",
       "        vertical-align: middle;\n",
       "    }\n",
       "\n",
       "    .dataframe tbody tr th {\n",
       "        vertical-align: top;\n",
       "    }\n",
       "\n",
       "    .dataframe thead tr th {\n",
       "        text-align: left;\n",
       "    }\n",
       "\n",
       "    .dataframe thead tr:last-of-type th {\n",
       "        text-align: right;\n",
       "    }\n",
       "</style>\n",
       "<table border=\"1\" class=\"dataframe\">\n",
       "  <thead>\n",
       "    <tr>\n",
       "      <th></th>\n",
       "      <th colspan=\"4\" halign=\"left\">score</th>\n",
       "    </tr>\n",
       "    <tr>\n",
       "      <th>gamma</th>\n",
       "      <th>0.1</th>\n",
       "      <th>0.5</th>\n",
       "      <th>1.0</th>\n",
       "      <th>5.0</th>\n",
       "    </tr>\n",
       "    <tr>\n",
       "      <th>C</th>\n",
       "      <th></th>\n",
       "      <th></th>\n",
       "      <th></th>\n",
       "      <th></th>\n",
       "    </tr>\n",
       "  </thead>\n",
       "  <tbody>\n",
       "    <tr>\n",
       "      <th>0.1</th>\n",
       "      <td>0.765665</td>\n",
       "      <td>0.775316</td>\n",
       "      <td>0.775316</td>\n",
       "      <td>0.616387</td>\n",
       "    </tr>\n",
       "    <tr>\n",
       "      <th>0.5</th>\n",
       "      <td>0.786581</td>\n",
       "      <td>0.802568</td>\n",
       "      <td>0.799406</td>\n",
       "      <td>0.786568</td>\n",
       "    </tr>\n",
       "    <tr>\n",
       "      <th>1.0</th>\n",
       "      <td>0.781755</td>\n",
       "      <td>0.804219</td>\n",
       "      <td>0.792994</td>\n",
       "      <td>0.783368</td>\n",
       "    </tr>\n",
       "    <tr>\n",
       "      <th>5.0</th>\n",
       "      <td>0.804219</td>\n",
       "      <td>0.788181</td>\n",
       "      <td>0.786594</td>\n",
       "      <td>0.783303</td>\n",
       "    </tr>\n",
       "  </tbody>\n",
       "</table>\n",
       "</div>"
      ],
      "text/plain": [
       "          score                              \n",
       "gamma       0.1       0.5       1.0       5.0\n",
       "C                                            \n",
       "0.1    0.765665  0.775316  0.775316  0.616387\n",
       "0.5    0.786581  0.802568  0.799406  0.786568\n",
       "1.0    0.781755  0.804219  0.792994  0.783368\n",
       "5.0    0.804219  0.788181  0.786594  0.783303"
      ]
     },
     "execution_count": 156,
     "metadata": {},
     "output_type": "execute_result"
    }
   ],
   "source": [
    "test = pd.DataFrame( grid_svc.cv_results_['params'] )\n",
    "test['score'] = grid_svc.cv_results_['mean_test_score']\n",
    "pd.pivot_table( test, index='C', columns='gamma' )"
   ]
  },
  {
   "cell_type": "code",
   "execution_count": 158,
   "id": "84bfad32-3da7-4d39-8b7d-3f4c1e75beb7",
   "metadata": {},
   "outputs": [
    {
     "data": {
      "text/plain": [
       "0.8283582089552238"
      ]
     },
     "execution_count": 158,
     "metadata": {},
     "output_type": "execute_result"
    }
   ],
   "source": [
    "grid_svc.score(valid_x, valid_y)"
   ]
  },
  {
   "cell_type": "code",
   "execution_count": 159,
   "id": "78d83e8a-5a8b-46ee-acf7-b7229a7ff956",
   "metadata": {},
   "outputs": [
    {
     "data": {
      "text/plain": [
       "array([0, 0, 0, 0, 0, 0, 1, 0, 1, 0, 0, 0, 1, 0, 1, 1, 0, 0, 0, 0, 0, 0,\n",
       "       1, 0, 1, 0, 1, 0, 0, 0, 0, 0, 0, 0, 0, 0, 0, 0, 0, 0, 0, 0, 0, 1,\n",
       "       1, 0, 0, 0, 1, 0, 0, 0, 1, 1, 0, 0, 0, 0, 0, 1, 0, 0, 0, 1, 1, 1,\n",
       "       1, 0, 0, 1, 1, 0, 0, 0, 1, 1, 0, 1, 0, 1, 1, 0, 0, 0, 0, 0, 1, 0,\n",
       "       1, 1, 0, 0, 1, 0, 0, 0, 1, 0, 0, 0, 1, 0, 0, 0, 1, 0, 0, 0, 0, 0,\n",
       "       0, 1, 1, 1, 1, 0, 0, 1, 0, 1, 1, 0, 1, 0, 0, 0, 0, 1, 0, 0, 0, 0,\n",
       "       0, 0, 0, 0, 0, 0, 0, 0, 0, 1, 0, 0, 0, 0, 0, 0, 0, 0, 1, 0, 0, 0,\n",
       "       0, 0, 1, 0, 0, 0, 1, 1, 1, 0, 0, 0, 0, 0, 1, 0, 0, 0, 0, 0, 0, 1,\n",
       "       1, 0, 1, 1, 0, 0, 1, 0, 1, 0, 1, 0, 0, 0, 0, 0, 0, 0, 1, 0, 1, 0,\n",
       "       0, 0, 1, 1, 1, 1, 0, 0, 0, 0, 1, 0, 0, 0, 0, 1, 0, 0, 1, 0, 1, 0,\n",
       "       1, 0, 1, 0, 1, 1, 0, 1, 0, 0, 0, 1, 0, 0, 0, 0, 0, 0, 1, 1, 1, 1,\n",
       "       0, 0, 0, 0, 1, 0, 1, 1, 1, 0, 1, 0, 0, 0, 0, 0, 1, 0, 0, 0, 1, 1,\n",
       "       0, 0, 0, 0, 0, 0, 0, 0, 1, 1, 0, 1, 0, 0, 0, 0, 0, 1, 1, 1, 1, 0,\n",
       "       0, 0, 0, 0, 0, 1, 0, 0, 0, 0, 1, 0, 0, 0, 0, 0, 0, 0, 1, 1, 0, 1,\n",
       "       0, 0, 0, 0, 0, 0, 1, 1, 0, 0, 0, 0, 0, 0, 0, 0, 1, 0, 1, 0, 0, 0,\n",
       "       1, 0, 0, 1, 0, 0, 0, 0, 0, 0, 0, 0, 0, 1, 0, 0, 0, 0, 0, 1, 1, 0,\n",
       "       0, 0, 1, 0, 1, 0, 0, 0, 0, 1, 1, 0, 1, 0, 0, 0, 1, 0, 0, 1, 0, 0,\n",
       "       1, 1, 0, 0, 0, 0, 0, 0, 0, 0, 0, 1, 0, 0, 0, 0, 0, 1, 0, 0, 0, 1,\n",
       "       0, 1, 0, 0, 1, 0, 1, 1, 0, 0, 0, 0, 1, 1, 1, 1, 0, 0, 1, 0, 0, 0],\n",
       "      dtype=int64)"
      ]
     },
     "execution_count": 159,
     "metadata": {},
     "output_type": "execute_result"
    }
   ],
   "source": [
    "grid_svc.predict(test_X)"
   ]
  },
  {
   "cell_type": "code",
   "execution_count": null,
   "id": "eea19151-e443-4fd1-a106-a549a353e417",
   "metadata": {},
   "outputs": [],
   "source": []
  }
 ],
 "metadata": {
  "kernelspec": {
   "display_name": "Python 3 (ipykernel)",
   "language": "python",
   "name": "python3"
  },
  "language_info": {
   "codemirror_mode": {
    "name": "ipython",
    "version": 3
   },
   "file_extension": ".py",
   "mimetype": "text/x-python",
   "name": "python",
   "nbconvert_exporter": "python",
   "pygments_lexer": "ipython3",
   "version": "3.10.15"
  }
 },
 "nbformat": 4,
 "nbformat_minor": 5
}
