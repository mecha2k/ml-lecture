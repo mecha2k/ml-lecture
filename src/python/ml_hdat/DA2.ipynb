{
 "cells": [
  {
   "cell_type": "markdown",
   "id": "b4fb8248-a894-4868-95bc-c423edc875a7",
   "metadata": {},
   "source": [
    "# 복습"
   ]
  },
  {
   "cell_type": "code",
   "execution_count": 1,
   "id": "ab5e6dad-51cb-4e86-98aa-e619c15a1dab",
   "metadata": {},
   "outputs": [],
   "source": [
    "import pandas as pd\n",
    "import numpy as np\n",
    "import matplotlib.pyplot as plt\n",
    "import seaborn as sns"
   ]
  },
  {
   "cell_type": "code",
   "execution_count": null,
   "id": "95c01a5c-768d-4bb8-8b88-ad60bae1d199",
   "metadata": {},
   "outputs": [],
   "source": [
    "# -. feature engineering\n",
    "# 0. 교차검증 => 하이퍼 파라미터 세팅\n",
    "# 1. 모델 생성\n",
    "# 2. 모델 훈련(fit)\n",
    "# 3. 검증(socre), 예측(predict)"
   ]
  },
  {
   "cell_type": "code",
   "execution_count": 3,
   "id": "4cf0ae51-d47c-4e8a-b162-1ddb9deb80b0",
   "metadata": {},
   "outputs": [],
   "source": [
    "# ML\n",
    "# target => 지도학습\n",
    "#         => 카테고리     : 분류(Classification)모델\n",
    "#         => 연속된 숫자  : 회귀(Regressor)모델 \n",
    "#        => 비지도학습\n",
    "\n",
    "iris_df = sns.load_dataset('iris')"
   ]
  },
  {
   "cell_type": "code",
   "execution_count": 8,
   "id": "60c161be-1176-4353-8f45-8101b8c82092",
   "metadata": {},
   "outputs": [],
   "source": [
    "# target => 무조건 1차원\n",
    "# feature => 무조건 2차원\n",
    "y = iris_df['species']\n",
    "X = iris_df.iloc[ : , :-1 ]"
   ]
  },
  {
   "cell_type": "code",
   "execution_count": 10,
   "id": "cb27cf9a-b23a-48d6-bc6b-f871dfbce50f",
   "metadata": {},
   "outputs": [],
   "source": [
    "from sklearn.model_selection import train_test_split\n",
    "\n",
    "train_x, valid_x, train_y, valid_y = train_test_split(X, y,\n",
    "                                                      test_size=0.2,\n",
    "                                                      random_state=22,\n",
    "                                                      stratify=y)"
   ]
  },
  {
   "cell_type": "code",
   "execution_count": 14,
   "id": "2d7b6c28-652f-4bbe-a53c-d88416f50f21",
   "metadata": {},
   "outputs": [
    {
     "name": "stdout",
     "output_type": "stream",
     "text": [
      "1 0.9666666666666667\n",
      "5 0.9416666666666667\n",
      "10 0.9416666666666667\n",
      "15 0.9666666666666667\n",
      "20 0.9416666666666667\n",
      "25 0.9416666666666667\n"
     ]
    },
    {
     "data": {
      "text/plain": [
       "0.9666666666666667"
      ]
     },
     "execution_count": 14,
     "metadata": {},
     "output_type": "execute_result"
    }
   ],
   "source": [
    "from sklearn.model_selection import cross_val_score\n",
    "from sklearn.neighbors import KNeighborsClassifier\n",
    "# 하이퍼 파라미터 찾기\n",
    "k_list = [1, 5, 10, 15, 20, 25]\n",
    "for k in k_list:\n",
    "    knn = KNeighborsClassifier(k)\n",
    "    score = cross_val_score(knn, train_x, train_y, cv=4).mean()\n",
    "    print(k, score)\n",
    "# 모델 생성\n",
    "knn = KNeighborsClassifier(10)\n",
    "# 모델 훈련\n",
    "knn.fit(train_x, train_y)\n",
    "# 모델 검증\n",
    "knn.score(valid_x, valid_y)"
   ]
  },
  {
   "cell_type": "markdown",
   "id": "b5c746d6-6c99-4428-8042-abbddef54797",
   "metadata": {},
   "source": [
    "# 타이타닉\n",
    "## 데이터 읽어오기"
   ]
  },
  {
   "cell_type": "code",
   "execution_count": 20,
   "id": "eb072607-704a-4332-8411-934658ac37b5",
   "metadata": {},
   "outputs": [
    {
     "name": "stdout",
     "output_type": "stream",
     "text": [
      "python\tpython\n"
     ]
    }
   ],
   "source": [
    "# 메타문자\n",
    "# \\ + 알파벳 => 특수한 효과를 가져옴\n",
    "# r'' => raw : 생으로 보라...\n",
    "print('python\\tpython')"
   ]
  },
  {
   "cell_type": "code",
   "execution_count": 21,
   "id": "311ad3db-dbd1-4c72-b114-b8934dcf7bdb",
   "metadata": {},
   "outputs": [],
   "source": [
    "train_df = pd.read_csv( r'C:\\Users\\USER\\OneDrive\\Desktop\\2025 수업\\DA양성과정 ML\\train.csv')\n",
    "test_df = pd.read_csv( r'C:\\Users\\USER\\OneDrive\\Desktop\\2025 수업\\DA양성과정 ML\\test.csv' )"
   ]
  },
  {
   "cell_type": "markdown",
   "id": "ac15131d-281f-4734-9b30-c4816fda5f36",
   "metadata": {},
   "source": [
    "## EDA"
   ]
  },
  {
   "cell_type": "code",
   "execution_count": 25,
   "id": "b4fd7d19-4740-4070-98df-039af210423b",
   "metadata": {},
   "outputs": [],
   "source": [
    "# target => Survived, 카테고리 데이터 => 분류문제\n",
    "# feature\n",
    "    # 데이터가 아직 아닌것 : Name, SibSp, Parch, Ticket, Cabin => 데이터 추출\n",
    "    # 카테고리 : Pclass, Sex, Embarked => 숫자로 바꿔줌(인코딩)\n",
    "    # 연속된 숫자 : Age, Fare => 단위를 맞춰줌(스케일링)"
   ]
  },
  {
   "cell_type": "markdown",
   "id": "2dc772d9-9900-4f7b-8d75-c8852bf23a36",
   "metadata": {},
   "source": [
    "## 결측값 처리"
   ]
  },
  {
   "cell_type": "code",
   "execution_count": 32,
   "id": "98e3e0b0-f415-459f-80df-3310a78405e8",
   "metadata": {},
   "outputs": [
    {
     "data": {
      "text/plain": [
       "PassengerId     0.000000\n",
       "Survived        0.000000\n",
       "Pclass          0.000000\n",
       "Name            0.000000\n",
       "Sex             0.000000\n",
       "Age            19.865320\n",
       "SibSp           0.000000\n",
       "Parch           0.000000\n",
       "Ticket          0.000000\n",
       "Fare            0.000000\n",
       "Cabin          77.104377\n",
       "Embarked        0.224467\n",
       "dtype: float64"
      ]
     },
     "execution_count": 32,
     "metadata": {},
     "output_type": "execute_result"
    }
   ],
   "source": [
    "# 데이터에 이상이 없나?! => 결측값 확인\n",
    "# pandas  NaN : 숫자도 아니고, 문자도 아니고 아무것도 아님...\n",
    "# => 집계해서 봐야함...\n",
    "\n",
    "train_df.isna().sum() / len(train_df) * 100"
   ]
  },
  {
   "cell_type": "code",
   "execution_count": 33,
   "id": "d13d0ec4-bea6-4dcd-83af-73f01a1f6445",
   "metadata": {},
   "outputs": [
    {
     "data": {
      "text/plain": [
       "PassengerId     0.000000\n",
       "Pclass          0.000000\n",
       "Name            0.000000\n",
       "Sex             0.000000\n",
       "Age            20.574163\n",
       "SibSp           0.000000\n",
       "Parch           0.000000\n",
       "Ticket          0.000000\n",
       "Fare            0.239234\n",
       "Cabin          78.229665\n",
       "Embarked        0.000000\n",
       "dtype: float64"
      ]
     },
     "execution_count": 33,
     "metadata": {},
     "output_type": "execute_result"
    }
   ],
   "source": [
    "test_df.isna().sum() / len(test_df) * 100"
   ]
  },
  {
   "cell_type": "markdown",
   "id": "0cc2172f-ec73-4342-957a-7565eb56ce12",
   "metadata": {},
   "source": [
    "## Embarked 결측값 처리"
   ]
  },
  {
   "cell_type": "code",
   "execution_count": 35,
   "id": "15ab92b0-d26a-44b3-a43f-12f5070f7d27",
   "metadata": {},
   "outputs": [
    {
     "data": {
      "image/png": "[encoded data removed]",
      "text/plain": [
       "<Figure size 400x200 with 1 Axes>"
      ]
     },
     "metadata": {},
     "output_type": "display_data"
    }
   ],
   "source": [
    "plt.figure(figsize=(4, 2))\n",
    "sns.countplot(train_df, x='Embarked')\n",
    "plt.show()"
   ]
  },
  {
   "cell_type": "code",
   "execution_count": 40,
   "id": "b10984a3-e31c-41b5-9fa7-4775959c3b82",
   "metadata": {},
   "outputs": [
    {
     "data": {
      "image/png": "[encoded data removed]",
      "text/plain": [
       "<Figure size 400x200 with 1 Axes>"
      ]
     },
     "metadata": {},
     "output_type": "display_data"
    }
   ],
   "source": [
    "plt.figure(figsize=(4, 2))\n",
    "sns.boxplot(train_df, x='Embarked', y='Fare', hue='Sex')\n",
    "plt.ylim( [0, 100] )\n",
    "plt.show()"
   ]
  },
  {
   "cell_type": "code",
   "execution_count": 39,
   "id": "5dd220cc-340e-4e23-b8f1-eed671f0cb31",
   "metadata": {},
   "outputs": [
    {
     "data": {
      "text/html": [
       "<div>\n",
       "<style scoped>\n",
       "    .dataframe tbody tr th:only-of-type {\n",
       "        vertical-align: middle;\n",
       "    }\n",
       "\n",
       "    .dataframe tbody tr th {\n",
       "        vertical-align: top;\n",
       "    }\n",
       "\n",
       "    .dataframe thead th {\n",
       "        text-align: right;\n",
       "    }\n",
       "</style>\n",
       "<table border=\"1\" class=\"dataframe\">\n",
       "  <thead>\n",
       "    <tr style=\"text-align: right;\">\n",
       "      <th></th>\n",
       "      <th>PassengerId</th>\n",
       "      <th>Survived</th>\n",
       "      <th>Pclass</th>\n",
       "      <th>Name</th>\n",
       "      <th>Sex</th>\n",
       "      <th>Age</th>\n",
       "      <th>SibSp</th>\n",
       "      <th>Parch</th>\n",
       "      <th>Ticket</th>\n",
       "      <th>Fare</th>\n",
       "      <th>Cabin</th>\n",
       "      <th>Embarked</th>\n",
       "    </tr>\n",
       "  </thead>\n",
       "  <tbody>\n",
       "    <tr>\n",
       "      <th>61</th>\n",
       "      <td>62</td>\n",
       "      <td>1</td>\n",
       "      <td>1</td>\n",
       "      <td>Icard, Miss. Amelie</td>\n",
       "      <td>female</td>\n",
       "      <td>38.0</td>\n",
       "      <td>0</td>\n",
       "      <td>0</td>\n",
       "      <td>113572</td>\n",
       "      <td>80.0</td>\n",
       "      <td>B28</td>\n",
       "      <td>NaN</td>\n",
       "    </tr>\n",
       "    <tr>\n",
       "      <th>829</th>\n",
       "      <td>830</td>\n",
       "      <td>1</td>\n",
       "      <td>1</td>\n",
       "      <td>Stone, Mrs. George Nelson (Martha Evelyn)</td>\n",
       "      <td>female</td>\n",
       "      <td>62.0</td>\n",
       "      <td>0</td>\n",
       "      <td>0</td>\n",
       "      <td>113572</td>\n",
       "      <td>80.0</td>\n",
       "      <td>B28</td>\n",
       "      <td>NaN</td>\n",
       "    </tr>\n",
       "  </tbody>\n",
       "</table>\n",
       "</div>"
      ],
      "text/plain": [
       "     PassengerId  Survived  Pclass                                       Name  \\\n",
       "61            62         1       1                        Icard, Miss. Amelie   \n",
       "829          830         1       1  Stone, Mrs. George Nelson (Martha Evelyn)   \n",
       "\n",
       "        Sex   Age  SibSp  Parch  Ticket  Fare Cabin Embarked  \n",
       "61   female  38.0      0      0  113572  80.0   B28      NaN  \n",
       "829  female  62.0      0      0  113572  80.0   B28      NaN  "
      ]
     },
     "execution_count": 39,
     "metadata": {},
     "output_type": "execute_result"
    }
   ],
   "source": [
    "# Embarked 결측값 눈으로 확인\n",
    "train_df[ train_df['Embarked'].isna() ]"
   ]
  },
  {
   "cell_type": "code",
   "execution_count": 43,
   "id": "a9fe33c8-391b-4f79-8b69-aab6f41ff623",
   "metadata": {},
   "outputs": [],
   "source": [
    "# 데이터를 살펴보니 C가 가장 확률이 높다!\n",
    "# 테이블 => 포인트 : .loc[인덱스, 컬럼]\n",
    "#  .loc[인덱스가 나오는 조건, 컬럼]\n",
    "\n",
    "train_df.loc[ train_df['Embarked'].isna() , 'Embarked' ] = 'C'"
   ]
  },
  {
   "cell_type": "code",
   "execution_count": 44,
   "id": "7709ceb4-f70f-4478-bcd6-489963090d21",
   "metadata": {},
   "outputs": [
    {
     "data": {
      "image/png": "[encoded data removed]",
      "text/plain": [
       "<Figure size 400x200 with 1 Axes>"
      ]
     },
     "metadata": {},
     "output_type": "display_data"
    }
   ],
   "source": [
    "# Age\n",
    "plt.figure(figsize=(4, 2))\n",
    "sns.histplot( train_df, x='Age' )\n",
    "plt.show()"
   ]
  },
  {
   "cell_type": "code",
   "execution_count": 52,
   "id": "6b8d8bc2-3950-41dc-b2be-83da8f7440f3",
   "metadata": {},
   "outputs": [
    {
     "data": {
      "image/png": "[encoded data removed]",
      "text/plain": [
       "<Figure size 400x200 with 1 Axes>"
      ]
     },
     "metadata": {},
     "output_type": "display_data"
    }
   ],
   "source": [
    "plt.figure(figsize=(4, 2))\n",
    "sns.boxplot( train_df, x='Pclass', y='Age', hue='Sex' )\n",
    "plt.legend(loc=(-1, 1))\n",
    "plt.show()"
   ]
  },
  {
   "cell_type": "code",
   "execution_count": 61,
   "id": "039cf077-3223-478d-ba1e-19f3ec210977",
   "metadata": {},
   "outputs": [],
   "source": [
    "# Pclass, Sex 별 평균 나이를 계산\n",
    "temp = train_df.groupby( ['Pclass', 'Sex'] )['Age'].mean()\n",
    "\n",
    "for ix in temp.index:\n",
    "    cond1 = train_df['Pclass'] == ix[0]\n",
    "    cond2 = train_df['Sex'] == ix[1]\n",
    "    cond3 = train_df['Age'].isna()\n",
    "    train_df.loc[ cond1 & cond2 & cond3, 'Age' ] = temp[ix]\n",
    "\n",
    "    cond1 = test_df['Pclass'] == ix[0]\n",
    "    cond2 = test_df['Sex'] == ix[1]\n",
    "    cond3 = test_df['Age'].isna()\n",
    "    test_df.loc[ cond1 & cond2 & cond3, 'Age' ] = temp[ix]"
   ]
  },
  {
   "cell_type": "code",
   "execution_count": 62,
   "id": "1ee69248-1f57-46da-8192-cb450326a2ba",
   "metadata": {},
   "outputs": [
    {
     "data": {
      "image/png": "[encoded data removed]",
      "text/plain": [
       "<Figure size 400x200 with 1 Axes>"
      ]
     },
     "metadata": {},
     "output_type": "display_data"
    }
   ],
   "source": [
    "# Fare\n",
    "plt.figure(figsize=(4, 2))\n",
    "sns.histplot( train_df, x='Fare' )\n",
    "plt.show()"
   ]
  },
  {
   "cell_type": "code",
   "execution_count": 69,
   "id": "d23d8ced-496c-48e1-9123-1643085d354d",
   "metadata": {},
   "outputs": [
    {
     "data": {
      "image/png": "[encoded data removed]",
      "text/plain": [
       "<Figure size 400x200 with 1 Axes>"
      ]
     },
     "metadata": {},
     "output_type": "display_data"
    }
   ],
   "source": [
    "plt.figure(figsize=(4, 2))\n",
    "sns.boxplot( train_df, x='Pclass', y='Fare', hue='Sex' )\n",
    "plt.legend(loc=(-1, 1))\n",
    "plt.ylim([0, 150])\n",
    "plt.show()"
   ]
  },
  {
   "cell_type": "code",
   "execution_count": 70,
   "id": "2a6290e4-6525-49e6-8b42-8a946d45c005",
   "metadata": {},
   "outputs": [
    {
     "data": {
      "text/html": [
       "<div>\n",
       "<style scoped>\n",
       "    .dataframe tbody tr th:only-of-type {\n",
       "        vertical-align: middle;\n",
       "    }\n",
       "\n",
       "    .dataframe tbody tr th {\n",
       "        vertical-align: top;\n",
       "    }\n",
       "\n",
       "    .dataframe thead th {\n",
       "        text-align: right;\n",
       "    }\n",
       "</style>\n",
       "<table border=\"1\" class=\"dataframe\">\n",
       "  <thead>\n",
       "    <tr style=\"text-align: right;\">\n",
       "      <th></th>\n",
       "      <th>PassengerId</th>\n",
       "      <th>Pclass</th>\n",
       "      <th>Name</th>\n",
       "      <th>Sex</th>\n",
       "      <th>Age</th>\n",
       "      <th>SibSp</th>\n",
       "      <th>Parch</th>\n",
       "      <th>Ticket</th>\n",
       "      <th>Fare</th>\n",
       "      <th>Cabin</th>\n",
       "      <th>Embarked</th>\n",
       "    </tr>\n",
       "  </thead>\n",
       "  <tbody>\n",
       "    <tr>\n",
       "      <th>152</th>\n",
       "      <td>1044</td>\n",
       "      <td>3</td>\n",
       "      <td>Storey, Mr. Thomas</td>\n",
       "      <td>male</td>\n",
       "      <td>60.5</td>\n",
       "      <td>0</td>\n",
       "      <td>0</td>\n",
       "      <td>3701</td>\n",
       "      <td>NaN</td>\n",
       "      <td>NaN</td>\n",
       "      <td>S</td>\n",
       "    </tr>\n",
       "  </tbody>\n",
       "</table>\n",
       "</div>"
      ],
      "text/plain": [
       "     PassengerId  Pclass                Name   Sex   Age  SibSp  Parch Ticket  \\\n",
       "152         1044       3  Storey, Mr. Thomas  male  60.5      0      0   3701   \n",
       "\n",
       "     Fare Cabin Embarked  \n",
       "152   NaN   NaN        S  "
      ]
     },
     "execution_count": 70,
     "metadata": {},
     "output_type": "execute_result"
    }
   ],
   "source": [
    "# Fare가 비어있는 데이터\n",
    "test_df[ test_df['Fare'].isna() ]"
   ]
  },
  {
   "cell_type": "code",
   "execution_count": 71,
   "id": "1640e91c-ea45-4a89-9e6b-31981ee733e7",
   "metadata": {},
   "outputs": [
    {
     "data": {
      "text/plain": [
       "Pclass  Sex   \n",
       "1       female    82.66455\n",
       "        male      41.26250\n",
       "2       female    22.00000\n",
       "        male      13.00000\n",
       "3       female    12.47500\n",
       "        male       7.92500\n",
       "Name: Fare, dtype: float64"
      ]
     },
     "execution_count": 71,
     "metadata": {},
     "output_type": "execute_result"
    }
   ],
   "source": [
    "train_df.groupby( ['Pclass', 'Sex'] )['Fare'].median()"
   ]
  },
  {
   "cell_type": "code",
   "execution_count": 74,
   "id": "a8b4bbdd-7b74-4b77-8321-6bcc5f3d7a8a",
   "metadata": {},
   "outputs": [],
   "source": [
    "test_df.loc[ test_df['Fare'].isna(), 'Fare' ]  = 7.925"
   ]
  },
  {
   "cell_type": "code",
   "execution_count": null,
   "id": "2f6a0498-10c3-47f6-af38-8ed063b4eb8c",
   "metadata": {},
   "outputs": [],
   "source": []
  },
  {
   "cell_type": "code",
   "execution_count": null,
   "id": "07a981f8-2ad6-4bcc-907f-3e55c429d335",
   "metadata": {},
   "outputs": [],
   "source": []
  }
 ],
 "metadata": {
  "kernelspec": {
   "display_name": "Python 3 (ipykernel)",
   "language": "python",
   "name": "python3"
  },
  "language_info": {
   "codemirror_mode": {
    "name": "ipython",
    "version": 3
   },
   "file_extension": ".py",
   "mimetype": "text/x-python",
   "name": "python",
   "nbconvert_exporter": "python",
   "pygments_lexer": "ipython3",
   "version": "3.10.15"
  }
 },
 "nbformat": 4,
 "nbformat_minor": 5
}
